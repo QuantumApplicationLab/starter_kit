{
 "cells": [
  {
   "cell_type": "markdown",
   "metadata": {},
   "source": [
    "# Running a job on quantum hardware/simuator via *ibm_cloud*\n",
    "\n",
    "In this section, the versions of essential packages are checked. If any of these packages are missing or have incompatible versions, you may encounter issues when running the code. Follow the instructions below to ensure a smooth execution of the notebook:\n",
    "\n",
    "# Instructions:\n",
    "**Check Versions:** Compare the installed versions with the specified versions in the code block above.<br>\n",
    "**Installation/Update:** If necessary, install or update the packages using the appropriate package manager. For example, you can use the following command for installation:\n",
    "\n",
    "!pip install qiskit==0.26.2 qiskit-aer==0.8.2 qiskit-aqua==0.9.1 qiskit-ibm-runtime==0.8.0 qiskit-ignis==0.6.0 qiskit-sphinx-theme==1.10.0 qiskit-terra==0.22.3"
   ]
  },
  {
   "cell_type": "code",
   "execution_count": 1,
   "metadata": {},
   "outputs": [
    {
     "data": {
      "text/plain": [
       "'\\nqiskit                    0.26.2                   pypi_0    pypi\\nqiskit-aer                0.8.2                    pypi_0    pypi\\nqiskit-aqua               0.9.1                    pypi_0    pypi\\nqiskit-ibm-runtime        0.8.0                    pypi_0    pypi\\nqiskit-ignis              0.6.0                    pypi_0    pypi\\nqiskit-sphinx-theme       1.10.0                   pypi_0    pypi\\nqiskit-terra              0.22.3                   pypi_0    pypi\\n'"
      ]
     },
     "execution_count": 1,
     "metadata": {},
     "output_type": "execute_result"
    }
   ],
   "source": [
    "# Check if the following packages and the necessary depenencies are installed\n",
    "'''\n",
    "qiskit                    0.26.2                   pypi_0    pypi\n",
    "qiskit-aer                0.8.2                    pypi_0    pypi\n",
    "qiskit-aqua               0.9.1                    pypi_0    pypi\n",
    "qiskit-ibm-runtime        0.8.0                    pypi_0    pypi\n",
    "qiskit-ignis              0.6.0                    pypi_0    pypi\n",
    "qiskit-sphinx-theme       1.10.0                   pypi_0    pypi\n",
    "qiskit-terra              0.22.3                   pypi_0    pypi\n",
    "'''"
   ]
  },
  {
   "cell_type": "markdown",
   "metadata": {},
   "source": [
    "In the code below, we import the **QiskitRuntimeService** module from the *qiskit_ibm_runtime* package. This module provides access to the Qiskit Runtime service, which allows you to execute Qiskit circuits on a remote IBM Quantum system with enhanced capabilities.\n",
    "\n",
    "After importing the module, the code prints the message *loaded runtime* to indicate that the Qiskit Runtime Service has been successfully loaded and is ready for use in the subsequent code cells."
   ]
  },
  {
   "cell_type": "code",
   "execution_count": 2,
   "metadata": {},
   "outputs": [
    {
     "name": "stdout",
     "output_type": "stream",
     "text": [
      "loaded runtime\n"
     ]
    }
   ],
   "source": [
    "from qiskit_ibm_runtime import QiskitRuntimeService\n",
    "print(\"loaded runtime\")"
   ]
  },
  {
   "cell_type": "markdown",
   "metadata": {},
   "source": [
    "In the code block below, the Qiskit Runtime Service's save_account method is used to save IBM Quantum account information to disk. This information includes the IBM Cloud API key, IBM Cloud CRN (Cloud Resource Name), and a custom account name.\n",
    "\n",
    "**Make sure to replace the placeholder values (\"IBM Cloud API key\", \"IBM Cloud CRN\", \"account-name\") with your actual IBM Quantum account details.**\n",
    "\n",
    "After saving the account information, the code prints the message \"loaded account info\" to indicate that the account information has been successfully loaded and saved to disk. This information is crucial for authenticating and accessing IBM Quantum services in the subsequent code cells."
   ]
  },
  {
   "cell_type": "code",
   "execution_count": 6,
   "metadata": {},
   "outputs": [
    {
     "name": "stdout",
     "output_type": "stream",
     "text": [
      "loaded account info\n"
     ]
    }
   ],
   "source": [
    "### Save account to disk. \n",
    "'''\n",
    "QiskitRuntimeService.save_account(channel=\"ibm_cloud\", \n",
    "                token=\"<IBM Cloud API key>\", \n",
    "                instance=\"<IBM Cloud CRN>\", \n",
    "                name=\"<account-name>\")\n",
    "'''\n",
    "\n",
    "print(\"loaded account info\")"
   ]
  },
  {
   "cell_type": "markdown",
   "metadata": {},
   "source": [
    "Below, the QiskitRuntimeService is instantiated with the provided IBM Quantum account information, such as the IBM Cloud API key and IBM Cloud CRN. This is done using the channel, token, and instance parameters.\n",
    "\n",
    "Again, make sure to replace the placeholder values (\"IBM Cloud API key\", \"IBM Cloud CRN\", \"account-name\") with your actual IBM Quantum account details.\n",
    "\n",
    "The subsequent print statements provide information about the instantiated QiskitRuntimeService object:\n",
    "\n",
    "Service: Outputs the information about the Qiskit Runtime Service.<br>\n",
    "Service - Channel: Outputs the channel associated with the service.<br>\n",
    "\n",
    "After printing information about the service, the code queries and displays a list of available backends using the service.backends() method. This helps you identify the quantum devices and simulators that you can use for your computations."
   ]
  },
  {
   "cell_type": "code",
   "execution_count": 8,
   "metadata": {},
   "outputs": [],
   "source": [
    "from qiskit_ibm_runtime import QiskitRuntimeService\n",
    "\n",
    "## Load saved credentials\n",
    "#service = QiskitRuntimeService(name=\"<account name>\")\n",
    "\n",
    "# Use this command if you didn't save your credentials:\n",
    "service = QiskitRuntimeService(channel=\"ibm_cloud\", token=\"<IBM Cloud API key>\", instance=\"<IBM Cloud CRN>\")\n",
    "\n",
    "\n",
    "print(\"Service:\", service)\n",
    "print(\"Service - Channel:\", service.channel)\n",
    "print(\"\")\n",
    "\n",
    "print(\"Available backends:\")\n",
    "service.backends()"
   ]
  },
  {
   "cell_type": "markdown",
   "metadata": {},
   "source": [
    "Here, the get_backend method of the QiskitRuntimeService object is used to load the necessary backend. The specified backend in this case is \"ibmq_qasm_simulator\".\n",
    "\n",
    "The loaded backend is then assigned to the variable backend. The subsequent print statement outputs information about the loaded backend, providing details such as the backend name, configuration, and other relevant information.\n",
    "\n",
    "This step is crucial for setting up the target backend where your quantum circuits will be executed. Depending on your needs, you can replace \"ibmq_qasm_simulator\" with the name of a different quantum device or simulator provided by IBM Quantum."
   ]
  },
  {
   "cell_type": "code",
   "execution_count": 9,
   "metadata": {},
   "outputs": [],
   "source": [
    "# Load necessary backend\n",
    "backend = service.get_backend(\"ibmq_qasm_simulator\")\n",
    "print(\"backend:\", backend)"
   ]
  },
  {
   "cell_type": "markdown",
   "metadata": {},
   "source": [
    "# Defining a quantum circuit and an observable to measure\n",
    "\n",
    "In the code below, a random quantum circuit is generated using the random_circuit function from qiskit.circuit.random. The circuit is created with 2 qubits and 2 classical bits, and it is decomposed using the decompose method with reps=1 to simplify its structure.\n",
    "\n",
    "The visual representation of the generated random circuit is then displayed using the draw method with the \"mpl\" (Matplotlib) backend.\n",
    "\n",
    "Next, an observable is defined using the SparsePauliOp class from qiskit.quantum_info. In this example, the observable is set to \"XZ,\" indicating a Pauli operator that is a tensor product of X on the first qubit and Z on the second qubit.\n",
    "\n",
    "Finally, the code prints information about the defined observable, specifically the Pauli operators that constitute it.\n",
    "\n",
    "This code is useful for demonstrating the creation of a random quantum circuit and defining an observable for further quantum computations. Adjust the parameters and observables as needed for your specific use case."
   ]
  },
  {
   "cell_type": "code",
   "execution_count": 14,
   "metadata": {},
   "outputs": [
    {
     "data": {
      "image/png": "[encoded data removed]",
      "text/plain": [
       "<Figure size 447.652x144.48 with 1 Axes>"
      ]
     },
     "metadata": {},
     "output_type": "display_data"
    },
    {
     "name": "stdout",
     "output_type": "stream",
     "text": [
      ">>> Observable: ['XZ']\n"
     ]
    }
   ],
   "source": [
    "from qiskit.circuit.random import random_circuit\n",
    "from qiskit.quantum_info import SparsePauliOp\n",
    "\n",
    "### Create random circuit\n",
    "circuit = random_circuit(2,2, seed=0).decompose(reps=1)\n",
    "display(circuit.draw(\"mpl\"))\n",
    "\n",
    "observable = SparsePauliOp(\"XZ\")\n",
    "print(f\">>> Observable: {observable.paulis}\")"
   ]
  },
  {
   "cell_type": "markdown",
   "metadata": {},
   "source": [
    "# Estimator\n",
    "\n",
    "The **Qiskit Runtime Estimator** is initialized using the Estimator class from qiskit_ibm_runtime.\n",
    "\n",
    "The print statements at the beginning provide information about the Qiskit Runtime Service and its channel.\n",
    "\n",
    "A Session is initialized using the specified Qiskit Runtime service and backend.The Estimator is then initialized with the created session.The run method of the Estimator is used to execute the quantum circuit (circuit) and estimate the observable (observable) on the specified backend (backend).\n",
    "\n",
    "Information about the executed job, such as the job ID and status, is printed to the console.\n",
    "\n",
    "This code is part of the process for using the Qiskit Runtime service to estimate the expectation value of an observable for a given quantum circuit. Adjustments may be needed based on your specific requirements and the characteristics of your quantum computation."
   ]
  },
  {
   "cell_type": "code",
   "execution_count": 15,
   "metadata": {},
   "outputs": [
    {
     "name": "stdout",
     "output_type": "stream",
     "text": [
      "Service: <QiskitRuntimeService>\n",
      "Channel: ibm_cloud\n",
      ">>> Job ID: clbi5bo4hipiui8pqe4g\n",
      ">>> Job Status: JobStatus.RUNNING\n"
     ]
    }
   ],
   "source": [
    "### Initialize the Qiskit Runtime Estimator\n",
    "from qiskit_ibm_runtime import Estimator, Session, Options\n",
    "print(\"Service:\", service)\n",
    "print(\"Channel:\", service.channel)\n",
    "\n",
    "with Session(service=service, backend=backend) as session:\n",
    "    estimator = Estimator(session=session)\n",
    "    job = estimator.run(circuit, observable)\n",
    "    print(f\">>> Job ID: {job.job_id()}\")\n",
    "    print(f\">>> Job Status: {job.status()}\")"
   ]
  },
  {
   "cell_type": "markdown",
   "metadata": {},
   "source": [
    "The results of the previously executed job can be obtained using the 'result' method. The result variable is assigned the result of the job.result() call, which retrieves the results of the executed quantum computation.\n",
    "\n",
    "The first print statement provides detailed information about the job result, including data about measurements, counts, and other relevant information. The second print statement outputs the expectation value obtained from the job result. The expectation value is extracted from the values attribute of the result object. The third print statement displays metadata associated with the job result. Metadata can include additional information about the computation or execution.\n",
    "\n",
    "The final print statement indicates that the job has been successfully completed."
   ]
  },
  {
   "cell_type": "code",
   "execution_count": 16,
   "metadata": {},
   "outputs": [
    {
     "name": "stdout",
     "output_type": "stream",
     "text": [
      ">>> EstimatorResult(values=array([0.86]), metadata=[{'variance': 0.2604000000000001, 'shots': 4000, 'readout_mitigation_num_twirled_circuits': 16, 'readout_mitigation_shots_calibration': 8192}])\n",
      "  > Expectation value: 0.86\n",
      "  > Metadata: {'variance': 0.2604000000000001, 'shots': 4000, 'readout_mitigation_num_twirled_circuits': 16, 'readout_mitigation_shots_calibration': 8192}\n",
      "Job done!\n"
     ]
    }
   ],
   "source": [
    "### Invoke the Estimator and get results\n",
    "result = job.result()\n",
    "print(f\">>> {result}\")\n",
    "print(f\"  > Expectation value: {result.values[0]}\")\n",
    "print(f\"  > Metadata: {result.metadata[0]}\")\n",
    "\n",
    "print(\"Job done!\")"
   ]
  },
  {
   "cell_type": "markdown",
   "metadata": {},
   "source": [
    "# Sampler\n",
    "\n",
    "Here **Qiskit Runtime Sampler** is used to run a predefined reference circuit (Bell state) on the IBM Quantum simulator. \n",
    "\n",
    "The print statements at the beginning provide information about the Qiskit Runtime Service and its channel.\n",
    "The Options class is used to define options for the Sampler, such as the optimization level (set to 3 in this example).\n",
    "\n",
    "A Session is initialized using the specified backend (\"ibmq_qasm_simulator\"). The Sampler is then initialized with the created session and options.The run method of the Sampler is used to execute the Bell state reference circuit.\n",
    "Information about the executed Sampler job, including the job ID and result, is printed to the console."
   ]
  },
  {
   "cell_type": "code",
   "execution_count": 9,
   "metadata": {},
   "outputs": [
    {
     "name": "stdout",
     "output_type": "stream",
     "text": [
      "Sampler job ID: clb18j3k8l5ohotdi2l0\n",
      "Sampler job result: SamplerResult(quasi_dists=[{0: 0.49875, 3: 0.50125}], metadata=[{'shots': 4000, 'circuit_metadata': {}, 'readout_mitigation_overhead': 1.0, 'readout_mitigation_time': 0.010131527989869937}])\n"
     ]
    }
   ],
   "source": [
    "# Also do this with Sampler\n",
    "from qiskit.test.reference_circuits import ReferenceCircuits\n",
    "from qiskit_ibm_runtime import Sampler, Session, Options\n",
    "print(\"Service:\", service)\n",
    "print(\"Channel:\", service.channel)\n",
    "\n",
    "options = Options(optimization_level=3)\n",
    "\n",
    "with Session(backend=\"ibmq_qasm_simulator\") as session:\n",
    "    sampler = Sampler(session=session, options=options)\n",
    "    job = sampler.run(ReferenceCircuits.bell())\n",
    "    print(f\"Sampler job ID: {job.job_id()}\")\n",
    "    print(f\"Sampler job result: {job.result()}\")"
   ]
  },
  {
   "cell_type": "code",
   "execution_count": null,
   "metadata": {},
   "outputs": [],
   "source": []
  }
 ],
 "metadata": {
  "kernelspec": {
   "display_name": "Python 3",
   "language": "python",
   "name": "python3"
  },
  "language_info": {
   "codemirror_mode": {
    "name": "ipython",
    "version": 3
   },
   "file_extension": ".py",
   "mimetype": "text/x-python",
   "name": "python",
   "nbconvert_exporter": "python",
   "pygments_lexer": "ipython3",
   "version": "3.7.6"
  }
 },
 "nbformat": 4,
 "nbformat_minor": 4
}

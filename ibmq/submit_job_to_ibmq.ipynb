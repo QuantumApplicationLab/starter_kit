{
 "cells": [
  {
   "cell_type": "markdown",
   "id": "902c6d56",
   "metadata": {},
   "source": [
    "# Submit a job to the IBM platform\n",
    "This notebook simply illustrate how to submit a job to the IBM platform.\n",
    "You will need a IBM token that can be obtained from your IBMQ account : https://quantum-computing.ibm.com/ \n",
    "\n"
   ]
  },
  {
   "cell_type": "code",
   "execution_count": 6,
   "id": "95a2b554",
   "metadata": {},
   "outputs": [
    {
     "data": {
      "image/png": "[encoded data removed]",
      "text/plain": [
       "<Figure size 327.252x204.68 with 1 Axes>"
      ]
     },
     "execution_count": 6,
     "metadata": {},
     "output_type": "execute_result"
    }
   ],
   "source": [
    "# Create a small circuit\n",
    "\n",
    "from qiskit import QuantumCircuit, ClassicalRegister, QuantumRegister\n",
    "q = QuantumRegister(2,\"q\")\n",
    "c = ClassicalRegister(2,\"c\")\n",
    "circuit = QuantumCircuit(q,c)\n",
    "circuit.x(q[0])\n",
    "circuit.cx(q[0], q[1])\n",
    "circuit.measure(q,c)\n",
    "\n",
    "circuit.draw(output='mpl')\n",
    "\n"
   ]
  },
  {
   "cell_type": "code",
   "execution_count": null,
   "id": "bbdff285",
   "metadata": {},
   "outputs": [],
   "source": [
    "ibmq_token = ''\n",
    "hub = 'ibm-q-qal'\n",
    "group = '' # examnple 'escience'\n",
    "project = '' # example qradio"
   ]
  },
  {
   "cell_type": "code",
   "execution_count": 5,
   "id": "9154c001",
   "metadata": {},
   "outputs": [
    {
     "name": "stdout",
     "output_type": "stream",
     "text": [
      "[<IBMQBackend('ibm_lagos') from IBMQ(hub='ibm-q-qal', group='escience', project='qradio')>, <IBMQBackend('ibm_nairobi') from IBMQ(hub='ibm-q-qal', group='escience', project='qradio')>, <IBMQBackend('ibm_oslo') from IBMQ(hub='ibm-q-qal', group='escience', project='qradio')>]\n"
     ]
    },
    {
     "data": {
      "text/html": [
       "<pre>&lt;qiskit.providers.models.backendstatus.BackendStatus object at 0x7efe5bfacac0&gt;</pre><b>name</b>: ibm_nairobi<br/><b>version</b>: 1.0.21, <b>pending jobs</b>: 20<br/><b>status</b>: active<br/>"
      ],
      "text/plain": [
       "<qiskit.providers.models.backendstatus.BackendStatus at 0x7efe5bfacac0>"
      ]
     },
     "execution_count": 5,
     "metadata": {},
     "output_type": "execute_result"
    }
   ],
   "source": [
    "# Log in\n",
    "\n",
    "from qiskit import IBMQ\n",
    "IBMQ.enable_account(ibmq_token)\n",
    "provider = IBMQ.get_provider(hub='ibm-q-qal', group='escience', project='qradio')\n",
    "print(provider.backends())"
   ]
  },
  {
   "cell_type": "code",
   "execution_count": null,
   "id": "4d3997b8",
   "metadata": {},
   "outputs": [],
   "source": [
    "# Select a backend and get its status\n",
    "backend = provider.get_backend('ibm_nairobi')  \n",
    "backend.status()"
   ]
  },
  {
   "cell_type": "code",
   "execution_count": 17,
   "id": "322f75b6",
   "metadata": {},
   "outputs": [],
   "source": [
    "# submit the job to the IBM backend\n",
    "job = backend.run(circuit, shots=1024)"
   ]
  },
  {
   "cell_type": "code",
   "execution_count": 12,
   "id": "fb6298f6",
   "metadata": {},
   "outputs": [
    {
     "name": "stdout",
     "output_type": "stream",
     "text": [
      "Status @ 0 seconds\n",
      "JobStatus.QUEUED\n",
      "Position in queue:  33\n",
      "Status @ 60 seconds\n",
      "JobStatus.QUEUED\n",
      "Position in queue:  1\n"
     ]
    },
    {
     "ename": "KeyboardInterrupt",
     "evalue": "",
     "output_type": "error",
     "traceback": [
      "\u001b[0;31m---------------------------------------------------------------------------\u001b[0m",
      "\u001b[0;31mKeyboardInterrupt\u001b[0m                         Traceback (most recent call last)",
      "Input \u001b[0;32mIn [12]\u001b[0m, in \u001b[0;36m<cell line: 6>\u001b[0;34m()\u001b[0m\n\u001b[1;32m      8\u001b[0m     \u001b[38;5;28mprint\u001b[39m(job\u001b[38;5;241m.\u001b[39mstatus())\n\u001b[1;32m      9\u001b[0m     \u001b[38;5;28mprint\u001b[39m(\u001b[38;5;124m\"\u001b[39m\u001b[38;5;124mPosition in queue: \u001b[39m\u001b[38;5;124m\"\u001b[39m,job\u001b[38;5;241m.\u001b[39mqueue_position())\n\u001b[0;32m---> 10\u001b[0m     \u001b[43mtime\u001b[49m\u001b[38;5;241;43m.\u001b[39;49m\u001b[43msleep\u001b[49m\u001b[43m(\u001b[49m\u001b[38;5;241;43m60\u001b[39;49m\u001b[43m)\u001b[49m\n\u001b[1;32m     11\u001b[0m     lapse \u001b[38;5;241m+\u001b[39m\u001b[38;5;241m=\u001b[39m \u001b[38;5;241m1\u001b[39m\n\u001b[1;32m     12\u001b[0m \u001b[38;5;28mprint\u001b[39m(job\u001b[38;5;241m.\u001b[39mstatus())\n",
      "\u001b[0;31mKeyboardInterrupt\u001b[0m: "
     ]
    }
   ],
   "source": [
    "# And get result\n",
    "result = job.result()\n",
    "counts = result.get_counts()\n",
    "counts"
   ]
  },
  {
   "cell_type": "code",
   "execution_count": null,
   "id": "f16fcf28",
   "metadata": {},
   "outputs": [],
   "source": []
  }
 ],
 "metadata": {
  "kernelspec": {
   "display_name": "Python 3 (ipykernel)",
   "language": "python",
   "name": "python3"
  },
  "language_info": {
   "codemirror_mode": {
    "name": "ipython",
    "version": 3
   },
   "file_extension": ".py",
   "mimetype": "text/x-python",
   "name": "python",
   "nbconvert_exporter": "python",
   "pygments_lexer": "ipython3",
   "version": "3.8.0"
  }
 },
 "nbformat": 4,
 "nbformat_minor": 5
}

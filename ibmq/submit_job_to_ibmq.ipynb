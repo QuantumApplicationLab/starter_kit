{
 "cells": [
  {
   "cell_type": "markdown",
   "id": "902c6d56",
   "metadata": {},
   "source": [
    "# Submit a job to the IBM platform\n",
    "\n",
    "This notebook provides a minimal example illustrates how to submit a job to the [IBMQ platform](https://quantum-computing.ibm.com/)."
   ]
  },
  {
   "cell_type": "markdown",
   "id": "b2c9545d",
   "metadata": {},
   "source": [
    "## The job\n",
    "\n",
    "First of all, we'll need a job to be submitted.\n",
    "The code below creates a small quantum circuit."
   ]
  },
  {
   "cell_type": "code",
   "execution_count": 3,
   "id": "95a2b554",
   "metadata": {},
   "outputs": [
    {
     "data": {
      "image/png": "[encoded data removed]",
      "text/plain": [
       "<Figure size 327.252x204.68 with 1 Axes>"
      ]
     },
     "execution_count": 3,
     "metadata": {},
     "output_type": "execute_result"
    }
   ],
   "source": [
    "# Create a small circuit\n",
    "from qiskit import QuantumCircuit, ClassicalRegister, QuantumRegister\n",
    "q = QuantumRegister(2,\"q\")\n",
    "c = ClassicalRegister(2,\"c\")\n",
    "circuit = QuantumCircuit(q,c)\n",
    "circuit.x(q[0])\n",
    "circuit.cx(q[0], q[1])\n",
    "circuit.measure(q,c)\n",
    "\n",
    "circuit.draw(output='mpl')"
   ]
  },
  {
   "cell_type": "markdown",
   "id": "101996c0",
   "metadata": {},
   "source": [
    "## Authentication\n",
    "\n",
    "In order to submit a job to IBMq you'll need an IBM personal `token`.\n",
    "Additionally, you'll need a `hub`, a `group` and a `project`.\n",
    "All this information can be obtained from your IBMQ account (https://quantum-computing.ibm.com/)."
   ]
  },
  {
   "cell_type": "code",
   "execution_count": 4,
   "id": "bbdff285",
   "metadata": {},
   "outputs": [],
   "source": [
    "# Your personal and confidential token\n",
    "ibmq_token = # <--- Insert your token here\n",
    "\n",
    "# Some extra information\n",
    "hub = 'ibm-q-qal' # Which hub to use\n",
    "group = 'escience' # Your working group's id\n",
    "project = 'qradio' # Your project's id"
   ]
  },
  {
   "cell_type": "markdown",
   "id": "54dc38d5",
   "metadata": {},
   "source": [
    "## Log in\n",
    "\n",
    "Once the credentials are set-up, the log in is straightforward."
   ]
  },
  {
   "cell_type": "code",
   "execution_count": 5,
   "id": "9154c001",
   "metadata": {},
   "outputs": [],
   "source": [
    "# Log in\n",
    "from qiskit import IBMQ\n",
    "IBMQ.enable_account(ibmq_token)\n",
    "provider = IBMQ.get_provider(hub=hub, group=group, project=project)"
   ]
  },
  {
   "cell_type": "markdown",
   "id": "3d66efa0",
   "metadata": {},
   "source": [
    "## Choose a backend\n",
    "\n",
    "The list of available backends can be accessed with `provider.backends()`:"
   ]
  },
  {
   "cell_type": "code",
   "execution_count": 6,
   "id": "e190255f",
   "metadata": {},
   "outputs": [
    {
     "name": "stdout",
     "output_type": "stream",
     "text": [
      "[<IBMQBackend('ibm_lagos') from IBMQ(hub='ibm-q-qal', group='escience', project='qradio')>, <IBMQBackend('ibm_nairobi') from IBMQ(hub='ibm-q-qal', group='escience', project='qradio')>, <IBMQBackend('ibm_oslo') from IBMQ(hub='ibm-q-qal', group='escience', project='qradio')>]\n"
     ]
    }
   ],
   "source": [
    "print(provider.backends())"
   ]
  },
  {
   "cell_type": "markdown",
   "id": "314e2e68",
   "metadata": {},
   "source": [
    "In order to proceed, we have to choose one:"
   ]
  },
  {
   "cell_type": "code",
   "execution_count": 7,
   "id": "a2d54aa9",
   "metadata": {},
   "outputs": [
    {
     "data": {
      "text/html": [
       "<pre>&lt;qiskit.providers.models.backendstatus.BackendStatus object at 0x7f42af17b7f0&gt;</pre><b>name</b>: ibm_nairobi<br/><b>version</b>: 1.0.22, <b>pending jobs</b>: 12<br/><b>status</b>: active<br/>"
      ],
      "text/plain": [
       "<qiskit.providers.models.backendstatus.BackendStatus at 0x7f42af17b7f0>"
      ]
     },
     "execution_count": 7,
     "metadata": {},
     "output_type": "execute_result"
    }
   ],
   "source": [
    "# Select a backend and get its status\n",
    "backend = provider.get_backend('ibm_nairobi') \n",
    "backend.status()"
   ]
  },
  {
   "cell_type": "markdown",
   "id": "193585f9",
   "metadata": {},
   "source": [
    "## Submit and run a job\n",
    "\n",
    "Now we are finally ready to do something useful with our setup.\n",
    "The snippets below show how to submit, run, and retrieve the results of our job."
   ]
  },
  {
   "cell_type": "code",
   "execution_count": 8,
   "id": "322f75b6",
   "metadata": {},
   "outputs": [],
   "source": [
    "# Submit the job to the IBM backend\n",
    "job = backend.run(circuit, shots=1024)"
   ]
  },
  {
   "cell_type": "code",
   "execution_count": 9,
   "id": "fb6298f6",
   "metadata": {},
   "outputs": [
    {
     "data": {
      "text/plain": [
       "{'00': 11, '01': 44, '10': 54, '11': 915}"
      ]
     },
     "execution_count": 9,
     "metadata": {},
     "output_type": "execute_result"
    }
   ],
   "source": [
    "# And get result\n",
    "result = job.result()\n",
    "counts = result.get_counts()\n",
    "counts"
   ]
  }
 ],
 "metadata": {
  "kernelspec": {
   "display_name": "Python 3.9.7 ('qiskit')",
   "language": "python",
   "name": "python3"
  },
  "language_info": {
   "codemirror_mode": {
    "name": "ipython",
    "version": 3
   },
   "file_extension": ".py",
   "mimetype": "text/x-python",
   "name": "python",
   "nbconvert_exporter": "python",
   "pygments_lexer": "ipython3",
   "version": "3.9.7"
  },
  "vscode": {
   "interpreter": {
    "hash": "0495df70a6e72786bce3891dec7c84e0144dfe5e7331ea279abd6abe3a6b85f6"
   }
  }
 },
 "nbformat": 4,
 "nbformat_minor": 5
}

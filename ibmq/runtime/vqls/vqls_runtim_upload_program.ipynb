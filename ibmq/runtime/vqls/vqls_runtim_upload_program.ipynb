{
 "cells": [
  {
   "cell_type": "code",
   "execution_count": 1,
   "metadata": {},
   "outputs": [],
   "source": [
    "meta = {\n",
    "    \"name\": \"vqls\",\n",
    "    \"description\": \"A VQLS program.\",\n",
    "    \"max_execution_time\": 100000,\n",
    "    \"spec\": {},\n",
    "}"
   ]
  },
  {
   "cell_type": "code",
   "execution_count": 2,
   "metadata": {},
   "outputs": [],
   "source": [
    "meta[\"spec\"][\"parameters\"] = {\n",
    "    \"$schema\": \"https://json-schema.org/draft/2019-09/schema\",\n",
    "    \"properties\": {\n",
    "        \"matrix\": {\n",
    "            \"description\": \"Matrix of the linear system.\",\n",
    "            \"type\": \"array\",\n",
    "        },\n",
    "        \"rhs\": {\n",
    "            \"description\": \"Right hand side of the linear system.\",\n",
    "            \"type\": \"array\",\n",
    "        },\n",
    "        \"ansatz\": {\n",
    "            \"description\": \"Quantum Circuit of the ansatz\",\n",
    "            \"type\": \"QauntumCircuit\",\n",
    "        },\n",
    "        \"optimizer\": {\n",
    "            \"description\": \"Classical optimizer to use, default='SPSA'.\",\n",
    "            \"type\": \"string\",\n",
    "            \"default\": \"SPSA\",\n",
    "        },\n",
    "        \"x0\": {\n",
    "            \"description\": \"Initial vector of parameters. This is a numpy array.\",\n",
    "            \"type\": \"array\",\n",
    "        },\n",
    "        \"optimizer_config\": {\n",
    "            \"description\": \"Configuration parameters for the optimizer.\",\n",
    "            \"type\": \"object\",\n",
    "        },\n",
    "        \"shots\": {\n",
    "            \"description\": \"The number of shots used for each circuit evaluation.\",\n",
    "            \"type\": \"integer\",\n",
    "        },\n",
    "        \"use_measurement_mitigation\": {\n",
    "            \"description\": \"Use measurement mitigation, default=False.\",\n",
    "            \"type\": \"boolean\",\n",
    "            \"default\": False,\n",
    "        },\n",
    "    },\n",
    "    \"required\": [\"matrix\", \"rhs\", \"ansatz\"],\n",
    "}"
   ]
  },
  {
   "cell_type": "code",
   "execution_count": 3,
   "metadata": {},
   "outputs": [],
   "source": [
    "meta[\"spec\"][\"return_values\"] = {\n",
    "    \"$schema\": \"https://json-schema.org/draft/2019-09/schema\",\n",
    "    \"description\": \"Final result in Scipy Optimizer format\",\n",
    "    \"type\": \"object\",\n",
    "}"
   ]
  },
  {
   "cell_type": "code",
   "execution_count": 4,
   "metadata": {},
   "outputs": [],
   "source": [
    "meta[\"spec\"][\"interim_results\"] = {\n",
    "    \"$schema\": \"https://json-schema.org/draft/2019-09/schema\",\n",
    "    \"description\": \"Parameter vector at current optimization step. This is a numpy array.\",\n",
    "    \"type\": \"array\",\n",
    "}"
   ]
  },
  {
   "cell_type": "code",
   "execution_count": 5,
   "metadata": {},
   "outputs": [],
   "source": [
    "from qiskit_ibm_runtime import QiskitRuntimeService\n",
    "\n",
    "ibmq_token = '494a8792f270fe0072c01aa9fe2235dc645248bf699bf3473de20a36a31fcb6e4e5369614581bc30d27c3b1c888ef9204130908ecd05d80e5d6a82a7791d3430'\n",
    "hub = 'ibm-q-qal'\n",
    "group = 'escience' # examnple 'escience'\n",
    "project = 'qradio' # example qradio\n",
    "\n",
    "QiskitRuntimeService.save_account(channel=\"ibm_quantum\", token=ibmq_token, overwrite=True)\n",
    "\n",
    "service = QiskitRuntimeService()"
   ]
  },
  {
   "cell_type": "code",
   "execution_count": 6,
   "metadata": {},
   "outputs": [],
   "source": [
    "service.delete_program('vqls-gVqOOPGPPW')"
   ]
  },
  {
   "cell_type": "code",
   "execution_count": 7,
   "metadata": {},
   "outputs": [
    {
     "data": {
      "text/plain": [
       "'vqls-PVA4mXZ45j'"
      ]
     },
     "execution_count": 7,
     "metadata": {},
     "output_type": "execute_result"
    }
   ],
   "source": [
    "program_id = service.upload_program(data=\"vqls_program.py\", metadata=meta)\n",
    "program_id"
   ]
  },
  {
   "cell_type": "code",
   "execution_count": 8,
   "metadata": {},
   "outputs": [
    {
     "name": "stdout",
     "output_type": "stream",
     "text": [
      "vqls-OjJmRmJglW:\n",
      "  Name: vqls\n",
      "  Description: A VQLS program.\n",
      "  Creation date: 2022-08-01T11:27:30.573095Z\n",
      "  Update date: 2022-08-01T11:27:30.573095Z\n",
      "  Max execution time: 100000\n",
      "  Backend requirements:\n",
      "    none\n",
      "  Input parameters:\n",
      "    Properties:\n",
      "        - ansatz:\n",
      "            Description: Quantum Circuit of the ansatz\n",
      "            Type: QauntumCircuit\n",
      "            Required: True\n",
      "        - matrix:\n",
      "            Description: Matrix of the linear system.\n",
      "            Type: array\n",
      "            Required: True\n",
      "        - optimizer:\n",
      "            Default: SPSA\n",
      "            Description: Classical optimizer to use, default='SPSA'.\n",
      "            Type: string\n",
      "            Required: False\n",
      "        - optimizer_config:\n",
      "            Description: Configuration parameters for the optimizer.\n",
      "            Type: object\n",
      "            Required: False\n",
      "        - rhs:\n",
      "            Description: Right hand side of the linear system.\n",
      "            Type: array\n",
      "            Required: True\n",
      "        - shots:\n",
      "            Description: The number of shots used for each circuit evaluation.\n",
      "            Type: integer\n",
      "            Required: False\n",
      "        - use_measurement_mitigation:\n",
      "            Default: False\n",
      "            Description: Use measurement mitigation, default=False.\n",
      "            Type: boolean\n",
      "            Required: False\n",
      "        - x0:\n",
      "            Description: Initial vector of parameters. This is a numpy array.\n",
      "            Type: array\n",
      "            Required: False\n",
      "  Interim results:\n",
      "    Description: Parameter vector at current optimization step. This is a numpy array.\n",
      "    Type: array\n",
      "  Returns:\n",
      "    Description: Final result in SciPy optimizer format\n",
      "    Type: object\n"
     ]
    }
   ],
   "source": [
    "prog = service.program(program_id)\n",
    "print(prog)"
   ]
  },
  {
   "cell_type": "code",
   "execution_count": null,
   "metadata": {},
   "outputs": [],
   "source": []
  }
 ],
 "metadata": {
  "kernelspec": {
   "display_name": "Python 3.8.0 ('qiskit_dev')",
   "language": "python",
   "name": "python3"
  },
  "language_info": {
   "codemirror_mode": {
    "name": "ipython",
    "version": 3
   },
   "file_extension": ".py",
   "mimetype": "text/x-python",
   "name": "python",
   "nbconvert_exporter": "python",
   "pygments_lexer": "ipython3",
   "version": "3.8.0"
  },
  "orig_nbformat": 4,
  "vscode": {
   "interpreter": {
    "hash": "f22efb95f768d3ffbe68a580a07852b1659f82fde3ba29cedd0f436aa6c30e49"
   }
  }
 },
 "nbformat": 4,
 "nbformat_minor": 2
}

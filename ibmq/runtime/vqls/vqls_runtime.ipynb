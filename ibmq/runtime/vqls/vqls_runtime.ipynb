{
 "cells": [
  {
   "cell_type": "code",
   "execution_count": 1,
   "metadata": {},
   "outputs": [],
   "source": [
    "from vqls_program import main\n",
    "from qiskit_ibm_runtime.program import UserMessenger\n",
    "from qiskit import Aer\n",
    "import numpy as np\n",
    "from qiskit.circuit.library.n_local.real_amplitudes import RealAmplitudes\n",
    "from qiskit.algorithms.optimizers import COBYLA"
   ]
  },
  {
   "cell_type": "code",
   "execution_count": 2,
   "metadata": {},
   "outputs": [],
   "source": [
    "msg = UserMessenger()\n",
    "backend = Aer.get_backend(\"qasm_simulator\")"
   ]
  },
  {
   "cell_type": "code",
   "execution_count": 3,
   "metadata": {},
   "outputs": [],
   "source": [
    "A = np.random.rand(4,4)\n",
    "A = (A+A.T)\n",
    "b = np.random.rand(4)\n",
    "ansatz = RealAmplitudes(2, entanglement='full', reps=3, insert_barriers=False)"
   ]
  },
  {
   "cell_type": "code",
   "execution_count": 4,
   "metadata": {},
   "outputs": [
    {
     "name": "stdout",
     "output_type": "stream",
     "text": [
      "['1', '1', '1', '1', '1', '1']\n",
      "[{'0': 1128, '1': 7064}, {'1': 4756, '0': 3436}, {'1': 2661, '0': 5531}, {'0': 3778, '1': 4414}, {'0': 5506, '1': 2686}, {'0': 4478, '1': 3714}]\n",
      "Cost function 0.123635\n",
      "['1', '1', '1', '1', '1', '1']\n",
      "[{'0': 4657, '1': 3535}, {'1': 5262, '0': 2930}, {'1': 6913, '0': 1279}, {'0': 3958, '1': 4234}, {'0': 1223, '1': 6969}, {'0': 4155, '1': 4037}]\n",
      "Cost function 0.151187\n",
      "[2.6135923476843237, 5.737169203399605, 4.113729849582302, 4.505385755130087, 2.0036505174654096, 3.044653432158586, 4.567371760236673, 2.160295052008967]\n",
      "['1', '1', '1', '1', '1', '1']\n",
      "[{'1': 4536, '0': 3656}, {'1': 4417, '0': 3775}, {'1': 1552, '0': 6640}, {'1': 3881, '0': 4311}, {'1': 1543, '0': 6649}, {'1': 4415, '0': 3777}]\n",
      "Cost function 0.132211\n",
      "['1', '1', '1', '1', '1', '1']\n",
      "[{'1': 7653, '0': 539}, {'1': 3356, '0': 4836}, {'0': 4692, '1': 3500}, {'0': 4142, '1': 4050}, {'0': 4734, '1': 3458}, {'1': 4169, '0': 4023}]\n",
      "Cost function 0.654968\n",
      "[2.4316232606151544, 5.919138290468775, 4.295698936651471, 4.323416668060918, 2.185619604534579, 3.2266225192277553, 4.7493408473058425, 2.3422641390781362]\n",
      "['1', '1', '1', '1', '1', '1']\n",
      "[{'0': 3435, '1': 4757}, {'0': 2453, '1': 5739}, {'1': 6455, '0': 1737}, {'1': 4849, '0': 3343}, {'1': 6524, '0': 1668}, {'1': 3251, '0': 4941}]\n",
      "Cost function 0.185351\n",
      "['1', '1', '1', '1', '1', '1']\n",
      "[{'1': 7978, '0': 214}, {'1': 3100, '0': 5092}, {'0': 4351, '1': 3841}, {'0': 2867, '1': 5325}, {'0': 4444, '1': 3748}, {'0': 5371, '1': 2821}]\n",
      "Cost function 0.791382\n",
      "[2.6046470856779975, 5.746114465405931, 4.468722761714314, 4.496440493123761, 2.358643429597422, 3.3996463442905984, 4.576317022242999, 2.169240314015293]\n",
      "['1', '1', '1', '1', '1', '1']\n",
      "[{'0': 1379, '1': 6813}, {'1': 5256, '0': 2936}, {'0': 5214, '1': 2978}, {'1': 3541, '0': 4651}, {'0': 5318, '1': 2874}, {'0': 3535, '1': 4657}]\n",
      "Cost function 0.515292\n",
      "['1', '1', '1', '1', '1', '1']\n",
      "[{'0': 752, '1': 7440}, {'1': 3797, '0': 4395}, {'1': 3181, '0': 5011}, {'1': 2255, '0': 5937}, {'1': 3143, '0': 5049}, {'0': 2240, '1': 5952}]\n",
      "Cost function 0.433534\n",
      "[2.624906186508193, 5.766373566236126, 4.448463660884119, 4.516699593953956, 2.3789025304276175, 3.419905445120794, 4.556057921412804, 2.1894994148454887]\n",
      "['1', '1', '1', '1', '1', '1']\n",
      "[{'0': 1179, '1': 7013}, {'0': 4454, '1': 3738}, {'1': 5479, '0': 2713}, {'0': 3737, '1': 4455}, {'1': 5414, '0': 2778}, {'1': 3894, '0': 4298}]\n",
      "Cost function 0.242103\n",
      "['1', '1', '1', '1', '1', '1']\n",
      "[{'0': 1035, '1': 7157}, {'1': 3372, '0': 4820}, {'1': 3065, '0': 5127}, {'0': 5648, '1': 2544}, {'1': 3011, '0': 5181}, {'0': 2564, '1': 5628}]\n",
      "Cost function 0.471871\n",
      "[2.573917373546721, 5.715384753274654, 4.397474847922647, 4.567688406915428, 2.4298913433890896, 3.368916632159322, 4.607046734374276, 2.1385106018840165]\n",
      "['1', '1', '1', '1', '1', '1']\n",
      "[{'0': 2486, '1': 5706}, {'1': 5056, '0': 3136}, {'1': 2329, '0': 5863}, {'0': 5220, '1': 2972}, {'1': 2208, '0': 5984}, {'1': 5218, '0': 2974}]\n",
      "Cost function 0.344030\n"
     ]
    },
    {
     "data": {
      "text/plain": [
       "     fun: 0.34403023140524436\n",
       " message: 'Optimization terminated successfully.'\n",
       "    nfev: 10\n",
       "     nit: 5\n",
       " success: True\n",
       "       x: array([2.57391737, 5.71538475, 4.39747485, 4.56768841, 2.42989134,\n",
       "       3.36891663, 4.60704673, 2.1385106 ])"
      ]
     },
     "execution_count": 4,
     "metadata": {},
     "output_type": "execute_result"
    }
   ],
   "source": [
    "# Execute the main routine for our simple two-qubit Hamiltonian H, and perform 5 iterations of the SPSA solver.\n",
    "main(backend, msg, A, b, ansatz, optimizer_config={\"maxiter\": 5})"
   ]
  },
  {
   "cell_type": "code",
   "execution_count": 11,
   "metadata": {},
   "outputs": [
    {
     "data": {
      "text/plain": [
       "2"
      ]
     },
     "execution_count": 11,
     "metadata": {},
     "output_type": "execute_result"
    }
   ],
   "source": [
    "ansatz.num_qubits"
   ]
  },
  {
   "cell_type": "code",
   "execution_count": null,
   "metadata": {},
   "outputs": [],
   "source": []
  }
 ],
 "metadata": {
  "kernelspec": {
   "display_name": "Python 3.8.0 ('qiskit_dev')",
   "language": "python",
   "name": "python3"
  },
  "language_info": {
   "codemirror_mode": {
    "name": "ipython",
    "version": 3
   },
   "file_extension": ".py",
   "mimetype": "text/x-python",
   "name": "python",
   "nbconvert_exporter": "python",
   "pygments_lexer": "ipython3",
   "version": "3.8.0"
  },
  "orig_nbformat": 4,
  "vscode": {
   "interpreter": {
    "hash": "f22efb95f768d3ffbe68a580a07852b1659f82fde3ba29cedd0f436aa6c30e49"
   }
  }
 },
 "nbformat": 4,
 "nbformat_minor": 2
}

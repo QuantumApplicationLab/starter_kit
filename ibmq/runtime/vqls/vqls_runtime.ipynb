{
 "cells": [
  {
   "cell_type": "code",
   "execution_count": 1,
   "metadata": {},
   "outputs": [],
   "source": [
    "from vqls_program import main\n",
    "from qiskit_ibm_runtime.program import UserMessenger\n",
    "from qiskit import Aer\n",
    "import numpy as np\n",
    "from qiskit.circuit.library.n_local.real_amplitudes import RealAmplitudes\n",
    "from qiskit.algorithms.optimizers import COBYLA"
   ]
  },
  {
   "cell_type": "code",
   "execution_count": 2,
   "metadata": {},
   "outputs": [],
   "source": [
    "msg = UserMessenger()\n",
    "backend = Aer.get_backend(\"aer_simulator_statevector\")"
   ]
  },
  {
   "cell_type": "code",
   "execution_count": 3,
   "metadata": {},
   "outputs": [],
   "source": [
    "A = np.random.rand(4,4)\n",
    "A = (A+A.T)\n",
    "b = np.random.rand(4)\n",
    "ansatz = RealAmplitudes(2, entanglement='full', reps=3, insert_barriers=False)"
   ]
  },
  {
   "cell_type": "code",
   "execution_count": 4,
   "metadata": {},
   "outputs": [
    {
     "name": "stdout",
     "output_type": "stream",
     "text": [
      "Use exact statistic from state vector\n",
      "Cost function 0.304702\n",
      "Cost function 0.327748\n",
      "Cost function 0.599166\n",
      "Cost function 0.327939\n",
      "Cost function 0.304056\n",
      "Cost function 0.542681\n",
      "Cost function 0.398617\n",
      "Cost function 0.552292\n",
      "Cost function 0.193636\n",
      "Cost function 0.182389\n",
      "Cost function 0.199911\n",
      "Cost function 0.172747\n",
      "Cost function 0.168448\n",
      "Cost function 0.154968\n",
      "Cost function 0.214927\n",
      "Cost function 0.154474\n",
      "Cost function 0.174433\n",
      "Cost function 0.167037\n",
      "Cost function 0.169847\n",
      "Cost function 0.156618\n",
      "Cost function 0.154364\n",
      "Cost function 0.153207\n",
      "Cost function 0.148674\n",
      "Cost function 0.136310\n",
      "Cost function 0.113626\n",
      "Cost function 0.130581\n",
      "Cost function 0.102533\n",
      "Cost function 0.124507\n",
      "Cost function 0.110218\n",
      "Cost function 0.119988\n",
      "Cost function 0.105449\n",
      "Cost function 0.104578\n",
      "Cost function 0.105206\n",
      "Cost function 0.119666\n",
      "Cost function 0.089781\n",
      "Cost function 0.086179\n",
      "Cost function 0.086046\n",
      "Cost function 0.100051\n",
      "Cost function 0.061154\n",
      "Cost function 0.049122\n",
      "Cost function 0.043706\n",
      "Cost function 0.046919\n",
      "Cost function 0.050223\n",
      "Cost function 0.038394\n",
      "Cost function 0.052438\n",
      "Cost function 0.035637\n",
      "Cost function 0.026808\n",
      "Cost function 0.088076\n",
      "Cost function 0.043403\n",
      "Cost function 0.034674\n",
      "Cost function 0.028848\n",
      "Cost function 0.029639\n",
      "Cost function 0.028776\n",
      "Cost function 0.035156\n",
      "Cost function 0.030538\n",
      "Cost function 0.021818\n",
      "Cost function 0.022335\n",
      "Cost function 0.021471\n",
      "Cost function 0.019899\n",
      "Cost function 0.018973\n",
      "Cost function 0.022199\n",
      "Cost function 0.014756\n",
      "Cost function 0.016572\n",
      "Cost function 0.014582\n",
      "Cost function 0.011574\n",
      "Cost function 0.011177\n",
      "Cost function 0.012592\n",
      "Cost function 0.009043\n",
      "Cost function 0.010244\n",
      "Cost function 0.007504\n",
      "Cost function 0.006866\n",
      "Cost function 0.004698\n",
      "Cost function 0.002453\n",
      "Cost function 0.004744\n",
      "Cost function 0.002156\n",
      "Cost function 0.002834\n",
      "Cost function 0.002592\n",
      "Cost function 0.002054\n",
      "Cost function 0.002028\n",
      "Cost function 0.002388\n",
      "Cost function 0.002822\n",
      "Cost function 0.000800\n",
      "Cost function 0.000831\n",
      "Cost function 0.000961\n",
      "Cost function 0.000646\n",
      "Cost function 0.000230\n",
      "Cost function 0.000552\n",
      "Cost function 0.000237\n",
      "Cost function 0.000461\n",
      "Cost function 0.000229\n",
      "Cost function 0.000213\n",
      "Cost function 0.000240\n",
      "Cost function 0.000811\n",
      "Cost function 0.000618\n",
      "Cost function 0.000240\n",
      "Cost function 0.000087\n",
      "Cost function 0.000063\n",
      "Cost function 0.000010\n",
      "Cost function 0.000065\n",
      "Cost function 0.000006\n",
      "Cost function 0.000014\n",
      "Cost function 0.000023\n",
      "Cost function 0.000198\n",
      "Cost function 0.000004\n",
      "Cost function 0.000028\n",
      "Cost function 0.000036\n",
      "Cost function 0.000160\n",
      "Cost function 0.000029\n",
      "Cost function 0.000006\n",
      "Cost function 0.000003\n",
      "Cost function 0.000001\n",
      "Cost function 0.000022\n",
      "Cost function 0.000000\n",
      "Cost function 0.000023\n",
      "Cost function 0.000005\n",
      "Cost function 0.000004\n",
      "Cost function 0.000001\n",
      "Cost function 0.000002\n",
      "Cost function 0.000003\n",
      "Cost function 0.000001\n",
      "Cost function 0.000013\n",
      "Cost function 0.000001\n"
     ]
    }
   ],
   "source": [
    "# Execute the main routine for our simple two-qubit Hamiltonian H, and perform 5 iterations of the SPSA solver.\n",
    "res = main(backend, Npne, A, b, ansatz,\n",
    "           optimizer=\"COBYLA\", optimizer_config={\"maxiter\": 200},\n",
    "           shots=1, normalize_cost_function=True)"
   ]
  },
  {
   "cell_type": "code",
   "execution_count": 5,
   "metadata": {},
   "outputs": [
    {
     "data": {
      "text/plain": [
       "[<matplotlib.lines.Line2D at 0x7f3950639820>]"
      ]
     },
     "execution_count": 5,
     "metadata": {},
     "output_type": "execute_result"
    },
    {
     "data": {
      "image/png": "[encoded data removed]",
      "text/plain": [
       "<Figure size 432x288 with 1 Axes>"
      ]
     },
     "metadata": {
      "needs_background": "light"
     },
     "output_type": "display_data"
    }
   ],
   "source": [
    "from qiskit.quantum_info import Statevector \n",
    "import matplotlib.pyplot as plt\n",
    "from qiskit.algorithms.linear_solvers.numpy_linear_solver import NumPyLinearSolver\n",
    "classical_solution = NumPyLinearSolver().solve(A,b/np.linalg.norm(b))\n",
    "\n",
    "opt_parameters = dict(zip(ansatz.parameters, res.x))\n",
    "solution = ansatz.assign_parameters(opt_parameters)\n",
    "\n",
    "ref_solution = classical_solution.state / np.linalg.norm(classical_solution.state) \n",
    "vqls_solution = np.real(Statevector(solution).data )\n",
    "\n",
    "\n",
    "plt.scatter(ref_solution, vqls_solution)\n",
    "plt.plot([-1,1],[-1,1],'--')"
   ]
  },
  {
   "cell_type": "code",
   "execution_count": null,
   "metadata": {},
   "outputs": [],
   "source": []
  }
 ],
 "metadata": {
  "kernelspec": {
   "display_name": "Python 3.8.0 ('qiskit_dev')",
   "language": "python",
   "name": "python3"
  },
  "language_info": {
   "codemirror_mode": {
    "name": "ipython",
    "version": 3
   },
   "file_extension": ".py",
   "mimetype": "text/x-python",
   "name": "python",
   "nbconvert_exporter": "python",
   "pygments_lexer": "ipython3",
   "version": "3.8.0"
  },
  "orig_nbformat": 4,
  "vscode": {
   "interpreter": {
    "hash": "f22efb95f768d3ffbe68a580a07852b1659f82fde3ba29cedd0f436aa6c30e49"
   }
  }
 },
 "nbformat": 4,
 "nbformat_minor": 2
}

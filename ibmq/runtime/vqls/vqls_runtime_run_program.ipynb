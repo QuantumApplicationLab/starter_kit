{
 "cells": [
  {
   "cell_type": "code",
   "execution_count": 1,
   "metadata": {},
   "outputs": [],
   "source": [
    "from qiskit_ibm_runtime import QiskitRuntimeService\n",
    "\n",
    "ibmq_token = ''\n",
    "hub = 'ibm-q-qal'\n",
    "group = 'escience' # examnple 'escience'\n",
    "project = 'qradio' # example qradio\n",
    "\n",
    "QiskitRuntimeService.save_account(channel=\"ibm_quantum\", token=ibmq_token, overwrite=True)\n",
    "\n",
    "service = QiskitRuntimeService()"
   ]
  },
  {
   "cell_type": "code",
   "execution_count": 2,
   "metadata": {},
   "outputs": [],
   "source": [
    "import numpy as np\n",
    "from qiskit.circuit.library.n_local.real_amplitudes import RealAmplitudes\n",
    "A = np.random.rand(4,4)\n",
    "A = (A+A.T)\n",
    "b = np.random.rand(4)\n",
    "ansatz = RealAmplitudes(2, entanglement='full', reps=3, insert_barriers=False)"
   ]
  },
  {
   "cell_type": "code",
   "execution_count": 3,
   "metadata": {},
   "outputs": [],
   "source": [
    "options = {\"backend_name\": \"ibm_nairobi\"}\n",
    "inputs = {}\n",
    "inputs[\"matrix\"] = A\n",
    "inputs['rhs'] = b\n",
    "inputs['ansatz'] = ansatz\n",
    "inputs[\"optimizer_config\"] = {\"maxiter\": 10}"
   ]
  },
  {
   "cell_type": "code",
   "execution_count": 4,
   "metadata": {},
   "outputs": [],
   "source": [
    "options = {\"backend_name\": \"ibm_nairobi\"}"
   ]
  },
  {
   "cell_type": "code",
   "execution_count": 5,
   "metadata": {},
   "outputs": [],
   "source": [
    "program_id = 'vqls-OjJmRmJglW'\n",
    "job = service.run(program_id, options=options, inputs=inputs)"
   ]
  },
  {
   "cell_type": "code",
   "execution_count": 6,
   "metadata": {},
   "outputs": [],
   "source": [
    "job.result()"
   ]
  },
  {
   "cell_type": "code",
   "execution_count": null,
   "metadata": {},
   "outputs": [],
   "source": []
  }
 ],
 "metadata": {
  "kernelspec": {
   "display_name": "Python 3.8.0 ('qiskit_dev')",
   "language": "python",
   "name": "python3"
  },
  "language_info": {
   "codemirror_mode": {
    "name": "ipython",
    "version": 3
   },
   "file_extension": ".py",
   "mimetype": "text/x-python",
   "name": "python",
   "nbconvert_exporter": "python",
   "pygments_lexer": "ipython3",
   "version": "3.8.0"
  },
  "orig_nbformat": 4,
  "vscode": {
   "interpreter": {
    "hash": "f22efb95f768d3ffbe68a580a07852b1659f82fde3ba29cedd0f436aa6c30e49"
   }
  }
 },
 "nbformat": 4,
 "nbformat_minor": 2
}

{
 "cells": [
  {
   "cell_type": "markdown",
   "metadata": {
    "slideshow": {
     "slide_type": "slide"
    }
   },
   "source": [
    "# How to use runtime primitives on the QAL hub\n",
    "Adapted from the VQE/VqD example\n",
    "\n",
    "## Define the operator and circuit"
   ]
  },
  {
   "cell_type": "code",
   "execution_count": 1,
   "metadata": {
    "slideshow": {
     "slide_type": "-"
    }
   },
   "outputs": [
    {
     "name": "stdout",
     "output_type": "stream",
     "text": [
      "1.0 * XYII\n",
      "+ 2.0 * IYZI\n",
      "+ 3.0 * IIZX\n",
      "+ 4.0 * XIII\n",
      "+ 5.0 * IYII\n"
     ]
    }
   ],
   "source": [
    "# define Hamiltonian\n",
    "from qiskit.opflow import PauliSumOp\n",
    "H = PauliSumOp.from_list([('XYII', 1), ('IYZI', 2), ('IIZX', 3), ('XIII', 4), ('IYII', 5)])\n",
    "\n",
    "print(H)"
   ]
  },
  {
   "cell_type": "code",
   "execution_count": 2,
   "metadata": {
    "slideshow": {
     "slide_type": "-"
    }
   },
   "outputs": [
    {
     "data": {
      "text/html": [
       "<pre style=\"word-wrap: normal;white-space: pre;background: #fff0;line-height: 1.1;font-family: &quot;Courier New&quot;,Courier,monospace\">        ┌──────────┐┌──────────┐                                ┌──────────┐┌───────────┐ ░ ┌─┐         \n",
       "   q_0: ┤ Ry(θ[0]) ├┤ Rz(θ[4]) ├────────────────────────■───────┤ Ry(θ[8]) ├┤ Rz(θ[12]) ├─░─┤M├─────────\n",
       "        ├──────────┤├──────────┤                      ┌─┴─┐     ├──────────┤├───────────┤ ░ └╥┘┌─┐      \n",
       "   q_1: ┤ Ry(θ[1]) ├┤ Rz(θ[5]) ├───────────■──────────┤ X ├─────┤ Ry(θ[9]) ├┤ Rz(θ[13]) ├─░──╫─┤M├──────\n",
       "        ├──────────┤├──────────┤         ┌─┴─┐    ┌───┴───┴───┐┌┴──────────┤└───────────┘ ░  ║ └╥┘┌─┐   \n",
       "   q_2: ┤ Ry(θ[2]) ├┤ Rz(θ[6]) ├──■──────┤ X ├────┤ Ry(θ[10]) ├┤ Rz(θ[14]) ├──────────────░──╫──╫─┤M├───\n",
       "        ├──────────┤├──────────┤┌─┴─┐┌───┴───┴───┐├───────────┤└───────────┘              ░  ║  ║ └╥┘┌─┐\n",
       "   q_3: ┤ Ry(θ[3]) ├┤ Rz(θ[7]) ├┤ X ├┤ Ry(θ[11]) ├┤ Rz(θ[15]) ├───────────────────────────░──╫──╫──╫─┤M├\n",
       "        └──────────┘└──────────┘└───┘└───────────┘└───────────┘                           ░  ║  ║  ║ └╥┘\n",
       "meas_0: ═════════════════════════════════════════════════════════════════════════════════════╩══╬══╬══╬═\n",
       "                                                                                                ║  ║  ║ \n",
       "meas_1: ════════════════════════════════════════════════════════════════════════════════════════╩══╬══╬═\n",
       "                                                                                                   ║  ║ \n",
       "meas_2: ═══════════════════════════════════════════════════════════════════════════════════════════╩══╬═\n",
       "                                                                                                      ║ \n",
       "meas_3: ══════════════════════════════════════════════════════════════════════════════════════════════╩═\n",
       "                                                                                                        </pre>"
      ],
      "text/plain": [
       "        ┌──────────┐┌──────────┐                                ┌──────────┐┌───────────┐ ░ ┌─┐         \n",
       "   q_0: ┤ Ry(θ[0]) ├┤ Rz(θ[4]) ├────────────────────────■───────┤ Ry(θ[8]) ├┤ Rz(θ[12]) ├─░─┤M├─────────\n",
       "        ├──────────┤├──────────┤                      ┌─┴─┐     ├──────────┤├───────────┤ ░ └╥┘┌─┐      \n",
       "   q_1: ┤ Ry(θ[1]) ├┤ Rz(θ[5]) ├───────────■──────────┤ X ├─────┤ Ry(θ[9]) ├┤ Rz(θ[13]) ├─░──╫─┤M├──────\n",
       "        ├──────────┤├──────────┤         ┌─┴─┐    ┌───┴───┴───┐┌┴──────────┤└───────────┘ ░  ║ └╥┘┌─┐   \n",
       "   q_2: ┤ Ry(θ[2]) ├┤ Rz(θ[6]) ├──■──────┤ X ├────┤ Ry(θ[10]) ├┤ Rz(θ[14]) ├──────────────░──╫──╫─┤M├───\n",
       "        ├──────────┤├──────────┤┌─┴─┐┌───┴───┴───┐├───────────┤└───────────┘              ░  ║  ║ └╥┘┌─┐\n",
       "   q_3: ┤ Ry(θ[3]) ├┤ Rz(θ[7]) ├┤ X ├┤ Ry(θ[11]) ├┤ Rz(θ[15]) ├───────────────────────────░──╫──╫──╫─┤M├\n",
       "        └──────────┘└──────────┘└───┘└───────────┘└───────────┘                           ░  ║  ║  ║ └╥┘\n",
       "meas_0: ═════════════════════════════════════════════════════════════════════════════════════╩══╬══╬══╬═\n",
       "                                                                                                ║  ║  ║ \n",
       "meas_1: ════════════════════════════════════════════════════════════════════════════════════════╩══╬══╬═\n",
       "                                                                                                   ║  ║ \n",
       "meas_2: ═══════════════════════════════════════════════════════════════════════════════════════════╩══╬═\n",
       "                                                                                                      ║ \n",
       "meas_3: ══════════════════════════════════════════════════════════════════════════════════════════════╩═\n",
       "                                                                                                        "
      ]
     },
     "execution_count": 2,
     "metadata": {},
     "output_type": "execute_result"
    }
   ],
   "source": [
    "from qiskit.circuit.library import EfficientSU2\n",
    "qc = EfficientSU2(num_qubits=H.num_qubits, reps=1)\n",
    "\n",
    "qc_with_meas = qc.measure_all(inplace=False)\n",
    "qc_with_meas.decompose().draw(fold=120)"
   ]
  },
  {
   "cell_type": "code",
   "execution_count": 6,
   "metadata": {},
   "outputs": [],
   "source": [
    "# instantiate optimizer\n",
    "from qiskit.algorithms.optimizers import SPSA\n",
    "optimizer = SPSA(maxiter=500)"
   ]
  },
  {
   "cell_type": "markdown",
   "metadata": {},
   "source": [
    "## Define the primitives"
   ]
  },
  {
   "cell_type": "code",
   "execution_count": 3,
   "metadata": {},
   "outputs": [
    {
     "name": "stdout",
     "output_type": "stream",
     "text": [
      "3.2893980883794938\n",
      "SamplerResult(quasi_dists=[{0: 0.534463710126212, 1: 0.004759346688145246, 2: 0.018762429217203943, 3: 0.04655897498420882, 4: 0.013229186890750786, 5: 0.00893610673954754, 6: 0.13312645689634195, 7: 0.006630323958123508, 8: 0.06542138657166453, 9: 0.0003307544396084377, 10: 0.014691590522237775, 11: 0.007511114365078926, 12: 0.07431594073231416, 13: 0.002837905609686144, 14: 0.0512055181112582, 15: 0.017219254147617474}], metadata=[{}])\n"
     ]
    }
   ],
   "source": [
    "from qiskit.primitives import Estimator, Sampler\n",
    "import numpy as np\n",
    "theta = np.random.rand(qc.num_parameters)\n",
    "\n",
    "estimator = Estimator([qc], [H])\n",
    "e_result = estimator.run([qc,qc], [H,H], [theta,theta])\n",
    "print(e_result.result().values[0])\n",
    "\n",
    "\n",
    "sampler = Sampler([qc_with_meas])\n",
    "s_result = sampler.run([qc_with_meas], [theta])\n",
    "print(s_result.result())"
   ]
  },
  {
   "cell_type": "markdown",
   "metadata": {
    "slideshow": {
     "slide_type": "slide"
    }
   },
   "source": [
    "## Build a VQE from Qiskit interfaces\n"
   ]
  },
  {
   "cell_type": "code",
   "execution_count": 4,
   "metadata": {
    "slideshow": {
     "slide_type": "slide"
    }
   },
   "outputs": [],
   "source": [
    "from qiskit.algorithms import MinimumEigensolver, VQEResult\n",
    "class CustomVQE(MinimumEigensolver):\n",
    "    \n",
    "    def __init__(self, estimator, circuit, optimizer, callback=None):\n",
    "        self._estimator = estimator\n",
    "        self._circuit = circuit\n",
    "        self._optimizer = optimizer\n",
    "        self._callback = callback\n",
    "        \n",
    "    def compute_minimum_eigenvalue(self, operator, aux_operators=None):\n",
    "                \n",
    "        # define objective\n",
    "        def objective(x):\n",
    "            e_job = self._estimator.run([self._circuit], [operator], [x])\n",
    "            value = e_job.result().values[0]\n",
    "            if self._callback:\n",
    "                self._callback(value)\n",
    "            return value\n",
    "            \n",
    "        # run optimization\n",
    "        x0 = np.random.rand(self._circuit.num_parameters)\n",
    "        res = self._optimizer.minimize(objective, x0=x0)\n",
    "        \n",
    "        # populate results\n",
    "        result = VQEResult()\n",
    "        result.cost_function_evals = res.nfev\n",
    "        result.eigenvalue = res.fun\n",
    "        result.optimal_parameters = res.x\n",
    "        return result"
   ]
  },
  {
   "cell_type": "markdown",
   "metadata": {},
   "source": [
    "## Run Locally"
   ]
  },
  {
   "cell_type": "code",
   "execution_count": 7,
   "metadata": {
    "slideshow": {
     "slide_type": "slide"
    }
   },
   "outputs": [
    {
     "name": "stdout",
     "output_type": "stream",
     "text": [
      "{   'aux_operator_eigenvalues': None,\n",
      "    'cost_function_evals': 1000,\n",
      "    'eigenstate': None,\n",
      "    'eigenvalue': -12.999144071543924,\n",
      "    'optimal_circuit': None,\n",
      "    'optimal_parameters': array([ 1.73279166e+00,  1.59667517e+00,  1.56966106e+00,  1.57014006e+00,\n",
      "        1.14572262e+00, -7.79229503e-03,  3.14293253e+00,  6.37334775e-04,\n",
      "        3.68947714e-01,  1.56746095e+00, -4.05283146e-03, -1.04721141e-03,\n",
      "       -1.12005098e+00,  1.07232319e+00,  1.57437810e+00,  3.13893708e+00]),\n",
      "    'optimal_point': None,\n",
      "    'optimal_value': None,\n",
      "    'optimizer_evals': None,\n",
      "    'optimizer_result': None,\n",
      "    'optimizer_time': None}\n"
     ]
    }
   ],
   "source": [
    "# run the custom VQE function\n",
    "custom_vqe = CustomVQE(estimator, qc, optimizer)\n",
    "result = custom_vqe.compute_minimum_eigenvalue(H)\n",
    "print(result)"
   ]
  },
  {
   "cell_type": "markdown",
   "metadata": {},
   "source": [
    "## Run on IBMQ through runtime Session"
   ]
  },
  {
   "cell_type": "code",
   "execution_count": 13,
   "metadata": {},
   "outputs": [],
   "source": [
    "from qiskit_ibm_runtime import (Session, Options, QiskitRuntimeService,\n",
    "                                Sampler as RuntimeSampler, \n",
    "                                Estimator as RuntimeEstimator)\n",
    "\n",
    "\n",
    "ibmq_token = \"\"\n",
    "hub = \"ibm-q-qal\"\n",
    "group = \"escience\"  # examnple 'escience'\n",
    "project = \"qradio\"  # example qradio                           \n",
    "\n",
    "service = QiskitRuntimeService(channel=\"ibm_quantum\", token=ibmq_token, instance=hub + \"/\" + group + \"/\" + project)\n",
    "\n",
    "backend = service.backend('ibmq_belem')"
   ]
  },
  {
   "cell_type": "code",
   "execution_count": 14,
   "metadata": {},
   "outputs": [
    {
     "ename": "RuntimeJobFailureError",
     "evalue": "'Unable to retrieve job result. Job cdbc0asol6riq8djs520 has failed:\\n2022-10-24T16:41:43.245356673Z /opt/app-root/lib64/python3.8/site-packages/qiskit_ibm_runtime/qpy/interface.py:255: UserWarning: The qiskit version used to generate the provided QPY file, 0.22.0, is newer than the current qiskit version 0.21.2. This may result in an error if the QPY file uses instructions not present in this current qiskit version\\n2022-10-24T16:41:43.245356673Z   warnings.warn(\\n2022-10-24T16:41:43.768578220Z --- Logging error ---\\n2022-10-24T16:41:43.769605816Z Traceback (most recent call last):\\n2022-10-24T16:41:43.769624919Z   File \"/provider/programruntime/program_starter_wrapper.py\", line 89, in execute\\n2022-10-24T16:41:43.769624919Z     final_result = self.main(backend, self.messenger, **self.user_params)\\n2022-10-24T16:41:43.769624919Z   File \"/code/program.py\", line 1164, in main\\n2022-10-24T16:41:43.769624919Z     result = estimator.run(\\n2022-10-24T16:41:43.769634186Z   File \"/code/program.py\", line 247, in run\\n2022-10-24T16:41:43.769634186Z     result, metadata = run_circuits(bound_circuits, self._backend, **run_opts.__dict__)\\n2022-10-24T16:41:43.769634186Z   File \"/code/program.py\", line 75, in run_circuits\\n2022-10-24T16:41:43.769634186Z     return job.result(), metadata\\n2022-10-24T16:41:43.769634186Z   File \"/provider/programruntime/runtime_job.py\", line 79, in result\\n2022-10-24T16:41:43.769634186Z     raise JobError(\\n2022-10-24T16:41:43.769645250Z qiskit.providers.exceptions.JobError: \\'Unable to retrieve result for job estimator_cdbc0asol6riq8djs520_2b26_0. Job has failed: Instruction not in basis gates: instruction: cx, qubits: [3, 4], params: []. Error code: 7000.\\'\\n2022-10-24T16:41:43.769651249Z \\n2022-10-24T16:41:43.769651249Z During handling of the above exception, another exception occurred:\\n2022-10-24T16:41:43.769651249Z \\n2022-10-24T16:41:43.769651249Z Traceback (most recent call last):\\n2022-10-24T16:41:43.769664463Z   File \"/usr/lib64/python3.8/logging/__init__.py\", line 1085, in emit\\n2022-10-24T16:41:43.769664463Z     msg = self.format(record)\\n2022-10-24T16:41:43.769664463Z   File \"/usr/lib64/python3.8/logging/__init__.py\", line 929, in format\\n2022-10-24T16:41:43.769664463Z     return fmt.format(record)\\n2022-10-24T16:41:43.769671732Z   File \"/usr/lib64/python3.8/logging/__init__.py\", line 668, in format\\n2022-10-24T16:41:43.769671732Z     record.message = record.getMessage()\\n2022-10-24T16:41:43.769671732Z   File \"/usr/lib64/python3.8/logging/__init__.py\", line 373, in getMessage\\n2022-10-24T16:41:43.769671732Z     msg = msg % self.args\\n2022-10-24T16:41:43.769677984Z TypeError: not all arguments converted during string formatting\\n2022-10-24T16:41:43.769683557Z Call stack:\\n2022-10-24T16:41:43.769796628Z   File \"/code/program_starter.py\", line 57, in <module>\\n2022-10-24T16:41:43.769796628Z     starter.execute()\\n2022-10-24T16:41:43.769796628Z   File \"/provider/programruntime/program_starter_wrapper.py\", line 94, in execute\\n2022-10-24T16:41:43.769796628Z     logger.error(\\n2022-10-24T16:41:43.769808644Z Message: \\'Error executing program job cdbc0asol6riq8djs520\\'\\n2022-10-24T16:41:43.769808644Z Arguments: (JobError(\\'Unable to retrieve result for job estimator_cdbc0asol6riq8djs520_2b26_0. Job has failed: Instruction not in basis gates: instruction: cx, qubits: [3, 4], params: []. Error code: 7000.\\'),)\\n2022-10-24T16:41:43.797265727Z Traceback (most recent call last):\\n2022-10-24T16:41:43.797265727Z   File \"/code/program_starter.py\", line 57, in <module>\\n2022-10-24T16:41:43.797365976Z     starter.execute()\\n2022-10-24T16:41:43.797376289Z   File \"/provider/programruntime/program_starter_wrapper.py\", line 99, in execute\\n2022-10-24T16:41:43.797419420Z     raise ex\\n2022-10-24T16:41:43.797427496Z   File \"/provider/programruntime/program_starter_wrapper.py\", line 89, in execute\\n2022-10-24T16:41:43.797457417Z     final_result = self.main(backend, self.messenger, **self.user_params)\\n2022-10-24T16:41:43.797463795Z   File \"/code/program.py\", line 1164, in main\\n2022-10-24T16:41:43.797627701Z     result = estimator.run(\\n2022-10-24T16:41:43.797633790Z   File \"/code/program.py\", line 247, in run\\n2022-10-24T16:41:43.797683202Z     result, metadata = run_circuits(bound_circuits, self._backend, **run_opts.__dict__)\\n2022-10-24T16:41:43.797689277Z   File \"/code/program.py\", line 75, in run_circuits\\n2022-10-24T16:41:43.797720700Z     return job.result(), metadata\\n2022-10-24T16:41:43.797728553Z   File \"/provider/programruntime/runtime_job.py\", line 79, in result\\n2022-10-24T16:41:43.797757872Z     raise JobError(\\n2022-10-24T16:41:43.797765080Z qiskit.providers.exceptions2022-10-24T16:41:43.797771596Z .JobError: 2022-10-24T16:41:43.797777416Z \\'Unable to retrieve result for job estimator_cdbc0asol6riq8djs520_2b26_0. Job has failed: Instruction not in basis gates: instruction: cx, qubits: [3, 4], params: []. Error code: 7000.\\'\\n'",
     "output_type": "error",
     "traceback": [
      "\u001b[0;31m---------------------------------------------------------------------------\u001b[0m",
      "\u001b[0;31mRuntimeJobFailureError\u001b[0m                    Traceback (most recent call last)",
      "\u001b[1;32m/home/nico/NLESC-quantum/qce22-qiskit-runtime-tutorial/docs/tutorials/session_minimal_example.ipynb Cell 13\u001b[0m in \u001b[0;36m<cell line: 1>\u001b[0;34m()\u001b[0m\n\u001b[1;32m      <a href='vscode-notebook-cell:/home/nico/NLESC-quantum/qce22-qiskit-runtime-tutorial/docs/tutorials/session_minimal_example.ipynb#Y132sZmlsZQ%3D%3D?line=6'>7</a>\u001b[0m rt_vqd \u001b[39m=\u001b[39m CustomVQE(rt_estimator, qc, optimizer)\n\u001b[1;32m      <a href='vscode-notebook-cell:/home/nico/NLESC-quantum/qce22-qiskit-runtime-tutorial/docs/tutorials/session_minimal_example.ipynb#Y132sZmlsZQ%3D%3D?line=8'>9</a>\u001b[0m \u001b[39m# run algorithm\u001b[39;00m\n\u001b[0;32m---> <a href='vscode-notebook-cell:/home/nico/NLESC-quantum/qce22-qiskit-runtime-tutorial/docs/tutorials/session_minimal_example.ipynb#Y132sZmlsZQ%3D%3D?line=9'>10</a>\u001b[0m result \u001b[39m=\u001b[39m rt_vqd\u001b[39m.\u001b[39;49mcompute_minimum_eigenvalue(H)\n\u001b[1;32m     <a href='vscode-notebook-cell:/home/nico/NLESC-quantum/qce22-qiskit-runtime-tutorial/docs/tutorials/session_minimal_example.ipynb#Y132sZmlsZQ%3D%3D?line=10'>11</a>\u001b[0m \u001b[39mprint\u001b[39m(result)\n",
      "\u001b[1;32m/home/nico/NLESC-quantum/qce22-qiskit-runtime-tutorial/docs/tutorials/session_minimal_example.ipynb Cell 13\u001b[0m in \u001b[0;36mCustomVQE.compute_minimum_eigenvalue\u001b[0;34m(self, operator, aux_operators)\u001b[0m\n\u001b[1;32m     <a href='vscode-notebook-cell:/home/nico/NLESC-quantum/qce22-qiskit-runtime-tutorial/docs/tutorials/session_minimal_example.ipynb#Y132sZmlsZQ%3D%3D?line=19'>20</a>\u001b[0m \u001b[39m# run optimization\u001b[39;00m\n\u001b[1;32m     <a href='vscode-notebook-cell:/home/nico/NLESC-quantum/qce22-qiskit-runtime-tutorial/docs/tutorials/session_minimal_example.ipynb#Y132sZmlsZQ%3D%3D?line=20'>21</a>\u001b[0m x0 \u001b[39m=\u001b[39m np\u001b[39m.\u001b[39mrandom\u001b[39m.\u001b[39mrand(\u001b[39mself\u001b[39m\u001b[39m.\u001b[39m_circuit\u001b[39m.\u001b[39mnum_parameters)\n\u001b[0;32m---> <a href='vscode-notebook-cell:/home/nico/NLESC-quantum/qce22-qiskit-runtime-tutorial/docs/tutorials/session_minimal_example.ipynb#Y132sZmlsZQ%3D%3D?line=21'>22</a>\u001b[0m res \u001b[39m=\u001b[39m \u001b[39mself\u001b[39;49m\u001b[39m.\u001b[39;49m_optimizer\u001b[39m.\u001b[39;49mminimize(objective, x0\u001b[39m=\u001b[39;49mx0)\n\u001b[1;32m     <a href='vscode-notebook-cell:/home/nico/NLESC-quantum/qce22-qiskit-runtime-tutorial/docs/tutorials/session_minimal_example.ipynb#Y132sZmlsZQ%3D%3D?line=23'>24</a>\u001b[0m \u001b[39m# populate results\u001b[39;00m\n\u001b[1;32m     <a href='vscode-notebook-cell:/home/nico/NLESC-quantum/qce22-qiskit-runtime-tutorial/docs/tutorials/session_minimal_example.ipynb#Y132sZmlsZQ%3D%3D?line=24'>25</a>\u001b[0m result \u001b[39m=\u001b[39m VQEResult()\n",
      "File \u001b[0;32m~/miniconda3/envs/qalcore/lib/python3.8/site-packages/qiskit/algorithms/optimizers/spsa.py:512\u001b[0m, in \u001b[0;36mSPSA.minimize\u001b[0;34m(self, fun, x0, jac, bounds)\u001b[0m\n\u001b[1;32m    502\u001b[0m \u001b[39mdef\u001b[39;00m \u001b[39mminimize\u001b[39m(\n\u001b[1;32m    503\u001b[0m     \u001b[39mself\u001b[39m,\n\u001b[1;32m    504\u001b[0m     fun: Callable[[POINT], \u001b[39mfloat\u001b[39m],\n\u001b[0;32m   (...)\u001b[0m\n\u001b[1;32m    509\u001b[0m     \u001b[39m# ensure learning rate and perturbation are correctly set: either none or both\u001b[39;00m\n\u001b[1;32m    510\u001b[0m     \u001b[39m# this happens only here because for the calibration the loss function is required\u001b[39;00m\n\u001b[1;32m    511\u001b[0m     \u001b[39mif\u001b[39;00m \u001b[39mself\u001b[39m\u001b[39m.\u001b[39mlearning_rate \u001b[39mis\u001b[39;00m \u001b[39mNone\u001b[39;00m \u001b[39mand\u001b[39;00m \u001b[39mself\u001b[39m\u001b[39m.\u001b[39mperturbation \u001b[39mis\u001b[39;00m \u001b[39mNone\u001b[39;00m:\n\u001b[0;32m--> 512\u001b[0m         get_eta, get_eps \u001b[39m=\u001b[39m \u001b[39mself\u001b[39;49m\u001b[39m.\u001b[39;49mcalibrate(fun, x0, max_evals_grouped\u001b[39m=\u001b[39;49m\u001b[39mself\u001b[39;49m\u001b[39m.\u001b[39;49m_max_evals_grouped)\n\u001b[1;32m    513\u001b[0m     \u001b[39melse\u001b[39;00m:\n\u001b[1;32m    514\u001b[0m         get_eta, get_eps \u001b[39m=\u001b[39m _validate_pert_and_learningrate(\n\u001b[1;32m    515\u001b[0m             \u001b[39mself\u001b[39m\u001b[39m.\u001b[39mperturbation, \u001b[39mself\u001b[39m\u001b[39m.\u001b[39mlearning_rate\n\u001b[1;32m    516\u001b[0m         )\n",
      "File \u001b[0;32m~/miniconda3/envs/qalcore/lib/python3.8/site-packages/qiskit/algorithms/optimizers/spsa.py:333\u001b[0m, in \u001b[0;36mSPSA.calibrate\u001b[0;34m(loss, initial_point, c, stability_constant, target_magnitude, alpha, gamma, modelspace, max_evals_grouped)\u001b[0m\n\u001b[1;32m    330\u001b[0m     pert \u001b[39m=\u001b[39m bernoulli_perturbation(dim)\n\u001b[1;32m    331\u001b[0m     points \u001b[39m+\u001b[39m\u001b[39m=\u001b[39m [initial_point \u001b[39m+\u001b[39m c \u001b[39m*\u001b[39m pert, initial_point \u001b[39m-\u001b[39m c \u001b[39m*\u001b[39m pert]\n\u001b[0;32m--> 333\u001b[0m losses \u001b[39m=\u001b[39m _batch_evaluate(loss, points, max_evals_grouped)\n\u001b[1;32m    335\u001b[0m avg_magnitudes \u001b[39m=\u001b[39m \u001b[39m0\u001b[39m\n\u001b[1;32m    336\u001b[0m \u001b[39mfor\u001b[39;00m i \u001b[39min\u001b[39;00m \u001b[39mrange\u001b[39m(steps):\n",
      "File \u001b[0;32m~/miniconda3/envs/qalcore/lib/python3.8/site-packages/qiskit/algorithms/optimizers/spsa.py:724\u001b[0m, in \u001b[0;36m_batch_evaluate\u001b[0;34m(function, points, max_evals_grouped, unpack_points)\u001b[0m\n\u001b[1;32m    721\u001b[0m \u001b[39m# if the function cannot handle lists of points as input, cover this case immediately\u001b[39;00m\n\u001b[1;32m    722\u001b[0m \u001b[39mif\u001b[39;00m max_evals_grouped \u001b[39m==\u001b[39m \u001b[39m1\u001b[39m:\n\u001b[1;32m    723\u001b[0m     \u001b[39m# support functions with multiple arguments where the points are given in a tuple\u001b[39;00m\n\u001b[0;32m--> 724\u001b[0m     \u001b[39mreturn\u001b[39;00m [\n\u001b[1;32m    725\u001b[0m         function(\u001b[39m*\u001b[39mpoint) \u001b[39mif\u001b[39;00m \u001b[39misinstance\u001b[39m(point, \u001b[39mtuple\u001b[39m) \u001b[39melse\u001b[39;00m function(point) \u001b[39mfor\u001b[39;00m point \u001b[39min\u001b[39;00m points\n\u001b[1;32m    726\u001b[0m     ]\n\u001b[1;32m    728\u001b[0m num_points \u001b[39m=\u001b[39m \u001b[39mlen\u001b[39m(points)\n\u001b[1;32m    730\u001b[0m \u001b[39m# get the number of batches\u001b[39;00m\n",
      "File \u001b[0;32m~/miniconda3/envs/qalcore/lib/python3.8/site-packages/qiskit/algorithms/optimizers/spsa.py:725\u001b[0m, in \u001b[0;36m<listcomp>\u001b[0;34m(.0)\u001b[0m\n\u001b[1;32m    721\u001b[0m \u001b[39m# if the function cannot handle lists of points as input, cover this case immediately\u001b[39;00m\n\u001b[1;32m    722\u001b[0m \u001b[39mif\u001b[39;00m max_evals_grouped \u001b[39m==\u001b[39m \u001b[39m1\u001b[39m:\n\u001b[1;32m    723\u001b[0m     \u001b[39m# support functions with multiple arguments where the points are given in a tuple\u001b[39;00m\n\u001b[1;32m    724\u001b[0m     \u001b[39mreturn\u001b[39;00m [\n\u001b[0;32m--> 725\u001b[0m         function(\u001b[39m*\u001b[39mpoint) \u001b[39mif\u001b[39;00m \u001b[39misinstance\u001b[39m(point, \u001b[39mtuple\u001b[39m) \u001b[39melse\u001b[39;00m function(point) \u001b[39mfor\u001b[39;00m point \u001b[39min\u001b[39;00m points\n\u001b[1;32m    726\u001b[0m     ]\n\u001b[1;32m    728\u001b[0m num_points \u001b[39m=\u001b[39m \u001b[39mlen\u001b[39m(points)\n\u001b[1;32m    730\u001b[0m \u001b[39m# get the number of batches\u001b[39;00m\n",
      "\u001b[1;32m/home/nico/NLESC-quantum/qce22-qiskit-runtime-tutorial/docs/tutorials/session_minimal_example.ipynb Cell 13\u001b[0m in \u001b[0;36mCustomVQE.compute_minimum_eigenvalue.<locals>.objective\u001b[0;34m(x)\u001b[0m\n\u001b[1;32m     <a href='vscode-notebook-cell:/home/nico/NLESC-quantum/qce22-qiskit-runtime-tutorial/docs/tutorials/session_minimal_example.ipynb#Y132sZmlsZQ%3D%3D?line=12'>13</a>\u001b[0m \u001b[39mdef\u001b[39;00m \u001b[39mobjective\u001b[39m(x):\n\u001b[1;32m     <a href='vscode-notebook-cell:/home/nico/NLESC-quantum/qce22-qiskit-runtime-tutorial/docs/tutorials/session_minimal_example.ipynb#Y132sZmlsZQ%3D%3D?line=13'>14</a>\u001b[0m     e_job \u001b[39m=\u001b[39m \u001b[39mself\u001b[39m\u001b[39m.\u001b[39m_estimator\u001b[39m.\u001b[39mrun([\u001b[39mself\u001b[39m\u001b[39m.\u001b[39m_circuit], [operator], [x])\n\u001b[0;32m---> <a href='vscode-notebook-cell:/home/nico/NLESC-quantum/qce22-qiskit-runtime-tutorial/docs/tutorials/session_minimal_example.ipynb#Y132sZmlsZQ%3D%3D?line=14'>15</a>\u001b[0m     value \u001b[39m=\u001b[39m e_job\u001b[39m.\u001b[39;49mresult()\u001b[39m.\u001b[39mvalues[\u001b[39m0\u001b[39m]\n\u001b[1;32m     <a href='vscode-notebook-cell:/home/nico/NLESC-quantum/qce22-qiskit-runtime-tutorial/docs/tutorials/session_minimal_example.ipynb#Y132sZmlsZQ%3D%3D?line=15'>16</a>\u001b[0m     \u001b[39mif\u001b[39;00m \u001b[39mself\u001b[39m\u001b[39m.\u001b[39m_callback:\n\u001b[1;32m     <a href='vscode-notebook-cell:/home/nico/NLESC-quantum/qce22-qiskit-runtime-tutorial/docs/tutorials/session_minimal_example.ipynb#Y132sZmlsZQ%3D%3D?line=16'>17</a>\u001b[0m         \u001b[39mself\u001b[39m\u001b[39m.\u001b[39m_callback(value)\n",
      "File \u001b[0;32m~/miniconda3/envs/qalcore/lib/python3.8/site-packages/qiskit_ibm_runtime/runtime_job.py:200\u001b[0m, in \u001b[0;36mRuntimeJob.result\u001b[0;34m(self, timeout, decoder)\u001b[0m\n\u001b[1;32m    198\u001b[0m     \u001b[39mif\u001b[39;00m \u001b[39mself\u001b[39m\u001b[39m.\u001b[39m_reason \u001b[39m==\u001b[39m \u001b[39m\"\u001b[39m\u001b[39mRAN TOO LONG\u001b[39m\u001b[39m\"\u001b[39m:\n\u001b[1;32m    199\u001b[0m         \u001b[39mraise\u001b[39;00m RuntimeJobMaxTimeoutError(error_message)\n\u001b[0;32m--> 200\u001b[0m     \u001b[39mraise\u001b[39;00m RuntimeJobFailureError(\n\u001b[1;32m    201\u001b[0m         \u001b[39mf\u001b[39m\u001b[39m\"\u001b[39m\u001b[39mUnable to retrieve job result. \u001b[39m\u001b[39m\"\u001b[39m \u001b[39mf\u001b[39m\u001b[39m\"\u001b[39m\u001b[39m{\u001b[39;00merror_message\u001b[39m}\u001b[39;00m\u001b[39m\"\u001b[39m\n\u001b[1;32m    202\u001b[0m     )\n\u001b[1;32m    203\u001b[0m result_raw \u001b[39m=\u001b[39m \u001b[39mself\u001b[39m\u001b[39m.\u001b[39m_api_client\u001b[39m.\u001b[39mjob_results(job_id\u001b[39m=\u001b[39m\u001b[39mself\u001b[39m\u001b[39m.\u001b[39mjob_id())\n\u001b[1;32m    204\u001b[0m \u001b[39mself\u001b[39m\u001b[39m.\u001b[39m_results \u001b[39m=\u001b[39m _decoder\u001b[39m.\u001b[39mdecode(result_raw) \u001b[39mif\u001b[39;00m result_raw \u001b[39melse\u001b[39;00m \u001b[39mNone\u001b[39;00m\n",
      "\u001b[0;31mRuntimeJobFailureError\u001b[0m: 'Unable to retrieve job result. Job cdbc0asol6riq8djs520 has failed:\\n2022-10-24T16:41:43.245356673Z /opt/app-root/lib64/python3.8/site-packages/qiskit_ibm_runtime/qpy/interface.py:255: UserWarning: The qiskit version used to generate the provided QPY file, 0.22.0, is newer than the current qiskit version 0.21.2. This may result in an error if the QPY file uses instructions not present in this current qiskit version\\n2022-10-24T16:41:43.245356673Z   warnings.warn(\\n2022-10-24T16:41:43.768578220Z --- Logging error ---\\n2022-10-24T16:41:43.769605816Z Traceback (most recent call last):\\n2022-10-24T16:41:43.769624919Z   File \"/provider/programruntime/program_starter_wrapper.py\", line 89, in execute\\n2022-10-24T16:41:43.769624919Z     final_result = self.main(backend, self.messenger, **self.user_params)\\n2022-10-24T16:41:43.769624919Z   File \"/code/program.py\", line 1164, in main\\n2022-10-24T16:41:43.769624919Z     result = estimator.run(\\n2022-10-24T16:41:43.769634186Z   File \"/code/program.py\", line 247, in run\\n2022-10-24T16:41:43.769634186Z     result, metadata = run_circuits(bound_circuits, self._backend, **run_opts.__dict__)\\n2022-10-24T16:41:43.769634186Z   File \"/code/program.py\", line 75, in run_circuits\\n2022-10-24T16:41:43.769634186Z     return job.result(), metadata\\n2022-10-24T16:41:43.769634186Z   File \"/provider/programruntime/runtime_job.py\", line 79, in result\\n2022-10-24T16:41:43.769634186Z     raise JobError(\\n2022-10-24T16:41:43.769645250Z qiskit.providers.exceptions.JobError: \\'Unable to retrieve result for job estimator_cdbc0asol6riq8djs520_2b26_0. Job has failed: Instruction not in basis gates: instruction: cx, qubits: [3, 4], params: []. Error code: 7000.\\'\\n2022-10-24T16:41:43.769651249Z \\n2022-10-24T16:41:43.769651249Z During handling of the above exception, another exception occurred:\\n2022-10-24T16:41:43.769651249Z \\n2022-10-24T16:41:43.769651249Z Traceback (most recent call last):\\n2022-10-24T16:41:43.769664463Z   File \"/usr/lib64/python3.8/logging/__init__.py\", line 1085, in emit\\n2022-10-24T16:41:43.769664463Z     msg = self.format(record)\\n2022-10-24T16:41:43.769664463Z   File \"/usr/lib64/python3.8/logging/__init__.py\", line 929, in format\\n2022-10-24T16:41:43.769664463Z     return fmt.format(record)\\n2022-10-24T16:41:43.769671732Z   File \"/usr/lib64/python3.8/logging/__init__.py\", line 668, in format\\n2022-10-24T16:41:43.769671732Z     record.message = record.getMessage()\\n2022-10-24T16:41:43.769671732Z   File \"/usr/lib64/python3.8/logging/__init__.py\", line 373, in getMessage\\n2022-10-24T16:41:43.769671732Z     msg = msg % self.args\\n2022-10-24T16:41:43.769677984Z TypeError: not all arguments converted during string formatting\\n2022-10-24T16:41:43.769683557Z Call stack:\\n2022-10-24T16:41:43.769796628Z   File \"/code/program_starter.py\", line 57, in <module>\\n2022-10-24T16:41:43.769796628Z     starter.execute()\\n2022-10-24T16:41:43.769796628Z   File \"/provider/programruntime/program_starter_wrapper.py\", line 94, in execute\\n2022-10-24T16:41:43.769796628Z     logger.error(\\n2022-10-24T16:41:43.769808644Z Message: \\'Error executing program job cdbc0asol6riq8djs520\\'\\n2022-10-24T16:41:43.769808644Z Arguments: (JobError(\\'Unable to retrieve result for job estimator_cdbc0asol6riq8djs520_2b26_0. Job has failed: Instruction not in basis gates: instruction: cx, qubits: [3, 4], params: []. Error code: 7000.\\'),)\\n2022-10-24T16:41:43.797265727Z Traceback (most recent call last):\\n2022-10-24T16:41:43.797265727Z   File \"/code/program_starter.py\", line 57, in <module>\\n2022-10-24T16:41:43.797365976Z     starter.execute()\\n2022-10-24T16:41:43.797376289Z   File \"/provider/programruntime/program_starter_wrapper.py\", line 99, in execute\\n2022-10-24T16:41:43.797419420Z     raise ex\\n2022-10-24T16:41:43.797427496Z   File \"/provider/programruntime/program_starter_wrapper.py\", line 89, in execute\\n2022-10-24T16:41:43.797457417Z     final_result = self.main(backend, self.messenger, **self.user_params)\\n2022-10-24T16:41:43.797463795Z   File \"/code/program.py\", line 1164, in main\\n2022-10-24T16:41:43.797627701Z     result = estimator.run(\\n2022-10-24T16:41:43.797633790Z   File \"/code/program.py\", line 247, in run\\n2022-10-24T16:41:43.797683202Z     result, metadata = run_circuits(bound_circuits, self._backend, **run_opts.__dict__)\\n2022-10-24T16:41:43.797689277Z   File \"/code/program.py\", line 75, in run_circuits\\n2022-10-24T16:41:43.797720700Z     return job.result(), metadata\\n2022-10-24T16:41:43.797728553Z   File \"/provider/programruntime/runtime_job.py\", line 79, in result\\n2022-10-24T16:41:43.797757872Z     raise JobError(\\n2022-10-24T16:41:43.797765080Z qiskit.providers.exceptions2022-10-24T16:41:43.797771596Z .JobError: 2022-10-24T16:41:43.797777416Z \\'Unable to retrieve result for job estimator_cdbc0asol6riq8djs520_2b26_0. Job has failed: Instruction not in basis gates: instruction: cx, qubits: [3, 4], params: []. Error code: 7000.\\'\\n'"
     ]
    }
   ],
   "source": [
    "\n",
    "with Session(service=service, backend=backend) as session:\n",
    "\n",
    "    # prepare primitives\n",
    "    rt_estimator = RuntimeEstimator(session=session)\n",
    "    \n",
    "    # set up algorithm    \n",
    "    rt_vqd = CustomVQE(rt_estimator, qc, optimizer)\n",
    "    \n",
    "    # run algorithm\n",
    "    result = rt_vqd.compute_minimum_eigenvalue(H)\n",
    "    print(result)    "
   ]
  },
  {
   "cell_type": "code",
   "execution_count": null,
   "metadata": {
    "slideshow": {
     "slide_type": "skip"
    }
   },
   "outputs": [
    {
     "data": {
      "text/html": [
       "<h3>Version Information</h3><table><tr><th>Qiskit Software</th><th>Version</th></tr><tr><td><code>qiskit-terra</code></td><td>0.21.2</td></tr><tr><td><code>qiskit-aer</code></td><td>0.11.0</td></tr><tr><td><code>qiskit-ibmq-provider</code></td><td>0.19.2</td></tr><tr><td><code>qiskit</code></td><td>0.38.0</td></tr><tr><td><code>qiskit-nature</code></td><td>0.4.4</td></tr><tr><th>System information</th></tr><tr><td>Python version</td><td>3.9.13</td></tr><tr><td>Python compiler</td><td>Clang 12.0.0 </td></tr><tr><td>Python build</td><td>main, Aug 25 2022 18:29:29</td></tr><tr><td>OS</td><td>Darwin</td></tr><tr><td>CPUs</td><td>4</td></tr><tr><td>Memory (Gb)</td><td>32.0</td></tr><tr><td colspan='2'>Sun Sep 18 20:44:35 2022 MDT</td></tr></table>"
      ],
      "text/plain": [
       "<IPython.core.display.HTML object>"
      ]
     },
     "metadata": {},
     "output_type": "display_data"
    },
    {
     "data": {
      "text/html": [
       "<div style='width: 100%; background-color:#d5d9e0;padding-left: 10px; padding-bottom: 10px; padding-right: 10px; padding-top: 5px'><h3>This code is a part of Qiskit</h3><p>&copy; Copyright IBM 2017, 2022.</p><p>This code is licensed under the Apache License, Version 2.0. You may<br>obtain a copy of this license in the LICENSE.txt file in the root directory<br> of this source tree or at http://www.apache.org/licenses/LICENSE-2.0.<p>Any modifications or derivative works of this code must retain this<br>copyright notice, and modified files need to carry a notice indicating<br>that they have been altered from the originals.</p></div>"
      ],
      "text/plain": [
       "<IPython.core.display.HTML object>"
      ]
     },
     "metadata": {},
     "output_type": "display_data"
    }
   ],
   "source": [
    "from qiskit.tools.jupyter import *\n",
    "\n",
    "%qiskit_version_table\n",
    "%qiskit_copyright"
   ]
  }
 ],
 "metadata": {
  "celltoolbar": "Slideshow",
  "kernelspec": {
   "display_name": "Python 3.8.0 ('qalcore')",
   "language": "python",
   "name": "python3"
  },
  "language_info": {
   "codemirror_mode": {
    "name": "ipython",
    "version": 3
   },
   "file_extension": ".py",
   "mimetype": "text/x-python",
   "name": "python",
   "nbconvert_exporter": "python",
   "pygments_lexer": "ipython3",
   "version": "3.8.0"
  },
  "vscode": {
   "interpreter": {
    "hash": "390591a6667b05d6f83558ed597f55be1305d4de992db830679d199a6a0e520c"
   }
  }
 },
 "nbformat": 4,
 "nbformat_minor": 2
}

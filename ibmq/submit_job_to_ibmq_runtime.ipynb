{
 "cells": [
  {
   "cell_type": "markdown",
   "id": "902c6d56",
   "metadata": {},
   "source": [
    "# Submit a job to the IBM runtime platoform\n",
    "This notebook simply illustrate how to submit a job to the IBM platform.\n",
    "You will need a IBM token that can be obtained from your IBMQ account : https://quantum-computing.ibm.com/ \n",
    "\n",
    "More information about runtime can be found in the documentation\n",
    "https://qiskit.org/documentation/partners/qiskit_ibm_runtime/"
   ]
  },
  {
   "cell_type": "code",
   "execution_count": 1,
   "id": "95a2b554",
   "metadata": {},
   "outputs": [
    {
     "name": "stdout",
     "output_type": "stream",
     "text": [
      "[<IBMQBackend('ibm_lagos') from IBMQ(hub='ibm-q-qal', group='escience', project='qradio')>, <IBMQBackend('ibm_nairobi') from IBMQ(hub='ibm-q-qal', group='escience', project='qradio')>, <IBMQBackend('ibm_oslo') from IBMQ(hub='ibm-q-qal', group='escience', project='qradio')>]\n",
      "[<IBMBackend('ibmq_belem')>, <IBMBackend('ibmq_guadalupe')>, <IBMBackend('ibm_perth')>, <IBMBackend('ibm_oslo')>, <IBMBackend('ibm_lagos')>, <IBMBackend('ibm_nairobi')>, <IBMBackend('ibmq_lima')>, <IBMBackend('ibmq_quito')>, <IBMBackend('ibmq_manila')>]\n",
      "SamplerResult(quasi_dists=[{'00': 0.47265625, '01': 0.0390625, '10': 0.03125, '11': 0.45703125}], metadata=[{'header_metadata': {}, 'shots': 1024}])\n"
     ]
    }
   ],
   "source": [
    "from qiskit_ibm_runtime import QiskitRuntimeService, Sampler\n",
    "from qiskit import QuantumCircuit\n",
    "from qiskit import IBMQ\n",
    "\n",
    "# personal data\n",
    "ibmq_token = # <--- Insert your token here\n",
    "hub = 'ibm-q-qal'\n",
    "group = 'escience' # examnple 'escience'\n",
    "project = 'qradio' # example qradio\n",
    "\n",
    "# select backend on OBMQ\n",
    "IBMQ.enable_account(ibmq_token)\n",
    "provider = IBMQ.get_provider(hub=hub, group=group, project=project)\n",
    "print(provider.backends())\n",
    "\n",
    "# Select a backend and get its status\n",
    "backend = provider.get_backend('ibm_nairobi')  \n",
    "backend.status()\n",
    "\n",
    "# Save an IBM Quantum account.\n",
    "# QiskitRuntimeService.save_account(channel=\"ibm_quantum\", token=ibmq_token)\n",
    "\n",
    "# start runtime\n",
    "service = QiskitRuntimeService()\n",
    "print(service.backends(simulator=False, operational=True))\n",
    "\n",
    "# create a simple bell circuit\n",
    "bell = QuantumCircuit(2)\n",
    "bell.h(0)\n",
    "bell.cx(0, 1)\n",
    "bell.measure_all()\n",
    "\n",
    "# executes a Bell circuit\n",
    "with Sampler(circuits=bell, service=service, options={ \"backend\": \"ibm_nairobi\" }) as sampler:\n",
    "    # pass indices of circuits\n",
    "    result = sampler(circuits=[0], shots=1024)\n",
    "    print(result)\n",
    "\n"
   ]
  },
  {
   "cell_type": "code",
   "execution_count": null,
   "id": "5c1acbf0",
   "metadata": {},
   "outputs": [],
   "source": []
  }
 ],
 "metadata": {
  "kernelspec": {
   "display_name": "Python 3.8.0 ('qiskit_dev')",
   "language": "python",
   "name": "python3"
  },
  "language_info": {
   "codemirror_mode": {
    "name": "ipython",
    "version": 3
   },
   "file_extension": ".py",
   "mimetype": "text/x-python",
   "name": "python",
   "nbconvert_exporter": "python",
   "pygments_lexer": "ipython3",
   "version": "3.8.0"
  },
  "vscode": {
   "interpreter": {
    "hash": "f22efb95f768d3ffbe68a580a07852b1659f82fde3ba29cedd0f436aa6c30e49"
   }
  }
 },
 "nbformat": 4,
 "nbformat_minor": 5
}

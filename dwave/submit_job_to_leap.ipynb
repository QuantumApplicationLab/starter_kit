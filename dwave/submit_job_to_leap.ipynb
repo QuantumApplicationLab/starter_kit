{
 "cells": [
  {
   "cell_type": "markdown",
   "metadata": {},
   "source": [
    "# Submit a small job to leap\n",
    "Before submitting the job you need to configure your token. (https://docs.ocean.dwavesys.com/en/stable/overview/sapi.html) \n",
    "\n",
    "An easy way to do so is to use the CLI :\n",
    "```\n",
    "dwave setup\n",
    "``` \n",
    "\n",
    "You'll be asked to enter your token that you can find on your dashboard\n"
   ]
  },
  {
   "cell_type": "markdown",
   "metadata": {},
   "source": [
    "The example below shos how to solve a linear system on leap using a quantum solver"
   ]
  },
  {
   "cell_type": "code",
   "execution_count": 1,
   "metadata": {},
   "outputs": [],
   "source": [
    "import numpy as np\n",
    "A = np.random.rand(8,8)\n",
    "A = 0.5*(A+A.T)"
   ]
  },
  {
   "cell_type": "code",
   "execution_count": 2,
   "metadata": {},
   "outputs": [],
   "source": [
    "b = 0.1 * np.random.rand(8,1)\n",
    "b /= np.linalg.norm(b)"
   ]
  },
  {
   "cell_type": "code",
   "execution_count": null,
   "metadata": {},
   "outputs": [],
   "source": [
    "npsol = np.linalg.solve(A,b)\n",
    "npsol = np.asarray(npsol).flatten()"
   ]
  },
  {
   "cell_type": "code",
   "execution_count": null,
   "metadata": {},
   "outputs": [],
   "source": [
    "from dwave.system import DWaveSampler , EmbeddingComposite\n",
    "from qalcore.dwave.qubols.qubols import QUBOLS\n",
    "qubols = QUBOLS(A,b)\n",
    "sampler = EmbeddingComposite(DWaveSampler(solver={'qpu':True}))\n",
    "sol_num = qubols.solve(sampler=sampler, num_reads=1000, chain_strength=1000)"
   ]
  },
  {
   "cell_type": "code",
   "execution_count": null,
   "metadata": {},
   "outputs": [],
   "source": [
    "import matplotlib.pyplot as plt\n",
    "plt.scatter(npsol, sol_num)\n",
    "plt.plot([-1,1],[-1,1],'--',c='gray')\n",
    "plt.show()"
   ]
  },
  {
   "cell_type": "code",
   "execution_count": null,
   "metadata": {},
   "outputs": [],
   "source": [
    "import dwave\n",
    "dwave.inspector.show(qubols.sampleset)"
   ]
  }
 ],
 "metadata": {
  "kernelspec": {
   "display_name": "Python 3.8.0 ('qalcore')",
   "language": "python",
   "name": "python3"
  },
  "language_info": {
   "codemirror_mode": {
    "name": "ipython",
    "version": 3
   },
   "file_extension": ".py",
   "mimetype": "text/x-python",
   "name": "python",
   "nbconvert_exporter": "python",
   "pygments_lexer": "ipython3",
   "version": "3.8.0"
  },
  "orig_nbformat": 4,
  "vscode": {
   "interpreter": {
    "hash": "390591a6667b05d6f83558ed597f55be1305d4de992db830679d199a6a0e520c"
   }
  }
 },
 "nbformat": 4,
 "nbformat_minor": 2
}
